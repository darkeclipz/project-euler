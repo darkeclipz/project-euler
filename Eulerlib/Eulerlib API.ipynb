{
 "cells": [
  {
   "cell_type": "markdown",
   "metadata": {},
   "source": [
    "# Introduction"
   ]
  },
  {
   "cell_type": "markdown",
   "metadata": {},
   "source": [
    "Eulerlib is a library that contains mathematical formulas or algorithms to help in solving problems for Project Euler. As more problems are completed, more methods are added to the library.\n",
    "\n",
    "In this document all the current functions will be demonstrated, and some notes on their implementation."
   ]
  },
  {
   "cell_type": "code",
   "execution_count": 1,
   "metadata": {},
   "outputs": [],
   "source": [
    "from eulerlib import *"
   ]
  },
  {
   "cell_type": "markdown",
   "metadata": {},
   "source": [
    "# Functions"
   ]
  },
  {
   "cell_type": "markdown",
   "metadata": {},
   "source": [
    "The library currently contains the following functions."
   ]
  },
  {
   "cell_type": "markdown",
   "metadata": {},
   "source": [
    "## `time_it`\n",
    "\n",
    "Executes a function and prints the runtime in seconds. Arguments are passed in via a list of arguments."
   ]
  },
  {
   "cell_type": "code",
   "execution_count": 5,
   "metadata": {},
   "outputs": [
    {
     "name": "stdout",
     "output_type": "stream",
     "text": [
      "--- Timed execution for <lambda> ----------------\n",
      "Running...\n",
      "Solution is [2, 7, 13, 373]\n",
      "Executed in 0.022938 seconds\n"
     ]
    }
   ],
   "source": [
    "time_it(lambda x: prime_factorization(x), [67886])"
   ]
  },
  {
   "cell_type": "markdown",
   "metadata": {},
   "source": [
    "## `distinct`\n",
    "\n",
    "Returns a list of unique elements."
   ]
  },
  {
   "cell_type": "code",
   "execution_count": 6,
   "metadata": {},
   "outputs": [
    {
     "data": {
      "text/plain": [
       "[1, 2, 3]"
      ]
     },
     "execution_count": 6,
     "metadata": {},
     "output_type": "execute_result"
    }
   ],
   "source": [
    "distinct([1, 1, 1, 2, 3])"
   ]
  },
  {
   "cell_type": "markdown",
   "metadata": {},
   "source": [
    "## `is_number`\n",
    "\n",
    "Returns `true` if the number is an instance of an `int` or `float`."
   ]
  },
  {
   "cell_type": "code",
   "execution_count": 7,
   "metadata": {},
   "outputs": [
    {
     "data": {
      "text/plain": [
       "True"
      ]
     },
     "execution_count": 7,
     "metadata": {},
     "output_type": "execute_result"
    }
   ],
   "source": [
    "is_number(8)"
   ]
  },
  {
   "cell_type": "code",
   "execution_count": 8,
   "metadata": {},
   "outputs": [
    {
     "data": {
      "text/plain": [
       "False"
      ]
     },
     "execution_count": 8,
     "metadata": {},
     "output_type": "execute_result"
    }
   ],
   "source": [
    "is_number('c')"
   ]
  },
  {
   "cell_type": "markdown",
   "metadata": {},
   "source": [
    "\n",
    "\n",
    "\n",
    "## `divisors`\n",
    "## `sum_of_proper_divisors_sieve`\n",
    "## `prime_sieve`\n",
    "## `sieve_to_list`\n",
    "## `triangle_number`\n",
    "## `is_triangle_number`\n",
    "## `triangle_number_sieve`\n",
    "## `hexagonal_number`\n",
    "## `is_hexagonal_number`\n",
    "## `pentagonal_number`\n",
    "## `is_pentagonal_number`\n",
    "## `proper_divisors`\n",
    "## `restricted_divisors`\n",
    "## `is_perfect_number`\n",
    "## `is_abundant_number`\n",
    "## `is_deficient_number`\n",
    "## `digits`\n",
    "## `digits_to_int`\n",
    "## `is_fibonacci_number`\n",
    "## `fibonacci_n`\n",
    "## `fibonacci_n_inv`\n",
    "## `gcd`\n",
    "## `lcm`\n",
    "## `lcm3`\n",
    "## `primitive_pythagorean_triplet_generator`\n",
    "## `prime_counting_function`\n",
    "## `lambertw`\n",
    "## `prime_counting_function_inv`\n",
    "## `product`\n",
    "## `factorial`\n",
    "## `is_even`\n",
    "## `is_odd`\n",
    "## `permutations`\n",
    "## `shift`\n",
    "## `is_palindrome`\n",
    "## `is_pandigital_to_n`\n",
    "## `to_binary_string`\n",
    "## `palindromes`\n",
    "## `string_split_2d`\n",
    "## `simplify_fraction`\n",
    "## `intersect_sets`\n",
    "## `quadratic.solve`\n",
    "## `modpow`\n",
    "## `is_prime`\n",
    "## `next_permutation`\n",
    "## `previous_permutation`\n",
    "## `prime_factorization`\n",
    "## `is_permutation`\n",
    "## `is_permutation3`\n",
    "## `equal_sets`\n",
    "## `union_sets`"
   ]
  },
  {
   "cell_type": "code",
   "execution_count": null,
   "metadata": {},
   "outputs": [],
   "source": []
  }
 ],
 "metadata": {
  "kernelspec": {
   "display_name": "Python 3",
   "language": "python",
   "name": "python3"
  },
  "language_info": {
   "codemirror_mode": {
    "name": "ipython",
    "version": 3
   },
   "file_extension": ".py",
   "mimetype": "text/x-python",
   "name": "python",
   "nbconvert_exporter": "python",
   "pygments_lexer": "ipython3",
   "version": "3.7.4"
  }
 },
 "nbformat": 4,
 "nbformat_minor": 2
}
