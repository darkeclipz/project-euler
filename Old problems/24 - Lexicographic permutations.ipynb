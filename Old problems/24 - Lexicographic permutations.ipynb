{
 "cells": [
  {
   "cell_type": "markdown",
   "metadata": {},
   "source": [
    "A permutation is an ordered arrangement of objects. For example, 3124 is one possible permutation of the digits 1, 2, 3 and 4. If all of the permutations are listed numerically or alphabetically, we call it lexicographic order. The lexicographic permutations of 0, 1 and 2 are:\n",
    "\n",
    "012   021   102   120   201   210\n",
    "\n",
    "What is the millionth lexicographic permutation of the digits 0, 1, 2, 3, 4, 5, 6, 7, 8 and 9?"
   ]
  },
  {
   "cell_type": "code",
   "execution_count": 2,
   "metadata": {},
   "outputs": [],
   "source": [
    "import math"
   ]
  },
  {
   "cell_type": "markdown",
   "metadata": {},
   "source": [
    "I figured that $(1,x_2,x_3,x_4,x_5,x_6,x_7,x_8,x_9,x_{10})$ has $1*9! = 326.880$ permutations. The index can be related to the permutation set in the following way:\n",
    "\n",
    "$$ \\text{index} = 9!\\cdot x_1 + 8!\\cdot x_2 + \\ldots + 0! \\cdot x_n$$\n",
    "\n",
    "where $x_1, x_2,\\ldots x_n$ are indices. First we define the set of permutations as $S = \\{0,1,2,3,4,5,6,7,8,9\\}$.\n",
    "\n",
    "We want to find maximum value of $x_1$ such that $9!\\cdot x_1 \\leq 1.000.000$ where $x_1$ is an integer. This gives:\n",
    "\n",
    "$$ x_1 = \\left\\lfloor\\frac{1.000.000}{9!}\\right\\rfloor = 2 \\implies S_{3}=2$$\n",
    "\n",
    "This gives us the element that we have to select from $S$, namely $S_{n+1}$. This gives $S_{3}=2$. Now we remove $2$ and store it in $R$. In $S$ we are left with $\\{0,1,3,4,5,6,7,8,9\\}$. The remainder for the next iteration is found with $1.000.000 - 9!\\cdot x_1$ which is $274.240$. In the next iteration we find $x_2$:\n",
    "\n",
    "$$ x_2 = \\left\\lfloor\\frac{274.240}{8!}\\right\\rfloor = 6 \\implies S_{7}=7$$\n",
    "\n",
    "Which gives $S_7=7$. We repeat this proces until the remainder is $0$. The resulting permutation is found by adding our found $x_1, x_2, \\ldots, x_{n-1}$, which are in $R$, and what is left in $S$."
   ]
  },
  {
   "cell_type": "code",
   "execution_count": 29,
   "metadata": {},
   "outputs": [],
   "source": [
    "def find_permutation_at_index(S, index):\n",
    "    R = []\n",
    "    remainder = index\n",
    "    while remainder > 0:\n",
    "        n = len(S)-1\n",
    "        index = remainder // math.factorial(n)\n",
    "        remainder -= index * math.factorial(n)\n",
    "        R.append(S[index])\n",
    "        del S[index]\n",
    "    return R + S"
   ]
  },
  {
   "cell_type": "code",
   "execution_count": 33,
   "metadata": {},
   "outputs": [
    {
     "name": "stdout",
     "output_type": "stream",
     "text": [
      "Wall time: 0 ns\n"
     ]
    },
    {
     "data": {
      "text/plain": [
       "[2, 7, 8, 3, 9, 1, 5, 4, 6, 0]"
      ]
     },
     "execution_count": 33,
     "metadata": {},
     "output_type": "execute_result"
    }
   ],
   "source": [
    "%%time\n",
    "find_permutation_at_index([0,1,2,3,4,5,6,7,8,9], 999999)"
   ]
  },
  {
   "cell_type": "markdown",
   "metadata": {},
   "source": [
    "This algorithm works for any arbitrary permutation set. We can also use it, for example, on letters:"
   ]
  },
  {
   "cell_type": "code",
   "execution_count": 44,
   "metadata": {},
   "outputs": [
    {
     "name": "stdout",
     "output_type": "stream",
     "text": [
      "i: 0 = ['A', 'B', 'C', 'D']\n",
      "i: 1 = ['A', 'B', 'D', 'C']\n",
      "i: 2 = ['A', 'C', 'B', 'D']\n",
      "i: 3 = ['A', 'C', 'D', 'B']\n",
      "i: 4 = ['A', 'D', 'B', 'C']\n",
      "i: 5 = ['A', 'D', 'C', 'B']\n",
      "i: 6 = ['B', 'A', 'C', 'D']\n",
      "i: 7 = ['B', 'A', 'D', 'C']\n",
      "i: 8 = ['B', 'C', 'A', 'D']\n",
      "i: 9 = ['B', 'C', 'D', 'A']\n",
      "i: 10 = ['B', 'D', 'A', 'C']\n",
      "i: 11 = ['B', 'D', 'C', 'A']\n",
      "i: 12 = ['C', 'A', 'B', 'D']\n",
      "i: 13 = ['C', 'A', 'D', 'B']\n",
      "i: 14 = ['C', 'B', 'A', 'D']\n",
      "i: 15 = ['C', 'B', 'D', 'A']\n",
      "i: 16 = ['C', 'D', 'A', 'B']\n",
      "i: 17 = ['C', 'D', 'B', 'A']\n",
      "i: 18 = ['D', 'A', 'B', 'C']\n",
      "i: 19 = ['D', 'A', 'C', 'B']\n",
      "i: 20 = ['D', 'B', 'A', 'C']\n",
      "i: 21 = ['D', 'B', 'C', 'A']\n",
      "i: 22 = ['D', 'C', 'A', 'B']\n",
      "i: 23 = ['D', 'C', 'B', 'A']\n"
     ]
    }
   ],
   "source": [
    "for i in range(math.factorial(4)):\n",
    "    print('i: {} = {}'.format(i, find_permutation_at_index(['A','B','C','D'], i)))"
   ]
  },
  {
   "cell_type": "code",
   "execution_count": 30,
   "metadata": {},
   "outputs": [
    {
     "name": "stdout",
     "output_type": "stream",
     "text": [
      "i: 0 = [0, 1, 2]\n",
      "i: 1 = [0, 2, 1]\n",
      "i: 2 = [1, 0, 2]\n",
      "i: 3 = [1, 2, 0]\n",
      "i: 4 = [2, 0, 1]\n",
      "i: 5 = [2, 1, 0]\n"
     ]
    }
   ],
   "source": [
    "for i in range(math.factorial(len([0,1,2]))):\n",
    "    print('i: {} = {}'.format(i, find_permutation_at_index([0,1,2], i)))"
   ]
  },
  {
   "cell_type": "markdown",
   "metadata": {},
   "source": [
    "We can improve it even more by pre-calculating the factorials. This can also be done in efficient way, by noting that $F_n = n\\cdot F_{n-1} = n\\cdot (n-1)!$:"
   ]
  },
  {
   "cell_type": "code",
   "execution_count": 2,
   "metadata": {},
   "outputs": [],
   "source": [
    "def find_permutation_at_index(S, index):\n",
    "    factorial = [1,1]\n",
    "    for i in range(2, len(S)):\n",
    "        factorial.append(i*factorial[i-1])\n",
    "    R = []\n",
    "    remainder = index\n",
    "    while remainder > 0:\n",
    "        n = len(S)-1\n",
    "        index = remainder // factorial[n]\n",
    "        remainder -= index * factorial[n]\n",
    "        R.append(S[index])\n",
    "        del S[index]\n",
    "    return R + S"
   ]
  },
  {
   "cell_type": "code",
   "execution_count": 3,
   "metadata": {},
   "outputs": [
    {
     "name": "stdout",
     "output_type": "stream",
     "text": [
      "Wall time: 0 ns\n"
     ]
    },
    {
     "data": {
      "text/plain": [
       "[2, 7, 8, 3, 9, 1, 5, 4, 6, 0]"
      ]
     },
     "execution_count": 3,
     "metadata": {},
     "output_type": "execute_result"
    }
   ],
   "source": [
    "%%time\n",
    "find_permutation_at_index([0,1,2,3,4,5,6,7,8,9], 999999)"
   ]
  },
  {
   "cell_type": "code",
   "execution_count": 5,
   "metadata": {},
   "outputs": [
    {
     "name": "stdout",
     "output_type": "stream",
     "text": [
      "[0, 1, 2, 3, 4, 5, 6, 7, 8, 9]\n",
      "[0, 1, 2, 3, 4, 5, 6, 7, 9, 8]\n",
      "[0, 1, 2, 3, 4, 5, 6, 8, 7, 9]\n",
      "[0, 1, 2, 3, 4, 5, 6, 8, 9, 7]\n",
      "[0, 1, 2, 3, 4, 5, 6, 9, 7, 8]\n",
      "[0, 1, 2, 3, 4, 5, 6, 9, 8, 7]\n",
      "[0, 1, 2, 3, 4, 5, 7, 6, 8, 9]\n",
      "[0, 1, 2, 3, 4, 5, 7, 6, 9, 8]\n",
      "[0, 1, 2, 3, 4, 5, 7, 8, 6, 9]\n",
      "[0, 1, 2, 3, 4, 5, 7, 8, 9, 6]\n"
     ]
    }
   ],
   "source": [
    "for i in range(10):\n",
    "    print(find_permutation_at_index([0,1,2,3,4,5,6,7,8,9], i))"
   ]
  },
  {
   "cell_type": "markdown",
   "metadata": {},
   "source": [
    "Adding some variables to keep track of the subtractions, multiplications and divisions:"
   ]
  },
  {
   "cell_type": "code",
   "execution_count": 101,
   "metadata": {},
   "outputs": [],
   "source": [
    "def find_permutation_at_index(S, index):\n",
    "    M=D=SUB=0\n",
    "    factorial = [1,1]\n",
    "    for i in range(2, len(S)):\n",
    "        factorial.append(i*factorial[i-1])\n",
    "        SUB+=1\n",
    "        M+=1\n",
    "    R = []\n",
    "    remainder = index\n",
    "    while remainder > 0:\n",
    "        n = len(S)-1\n",
    "        index = remainder // factorial[n]\n",
    "        D+=1\n",
    "        remainder -= index * factorial[n]\n",
    "        M+=1\n",
    "        SUB+=1\n",
    "        R.append(S[index])\n",
    "        del S[index]\n",
    "    print(M,D,SUB)\n",
    "    return R + S"
   ]
  },
  {
   "cell_type": "code",
   "execution_count": 102,
   "metadata": {},
   "outputs": [
    {
     "name": "stdout",
     "output_type": "stream",
     "text": [
      "17 9 17\n",
      "Wall time: 1e+03 µs\n"
     ]
    },
    {
     "data": {
      "text/plain": [
       "[2, 7, 8, 3, 9, 1, 5, 4, 6, 0]"
      ]
     },
     "execution_count": 102,
     "metadata": {},
     "output_type": "execute_result"
    }
   ],
   "source": [
    "%%time\n",
    "find_permutation_at_index([0,1,2,3,4,5,6,7,8,9], 999999)"
   ]
  },
  {
   "cell_type": "markdown",
   "metadata": {},
   "source": [
    "It finds the solution in 17 multiplications, 9 divisions, and 17 subtractions."
   ]
  },
  {
   "cell_type": "code",
   "execution_count": null,
   "metadata": {},
   "outputs": [],
   "source": [
    "M = \n",
    "D\n",
    "S"
   ]
  },
  {
   "cell_type": "code",
   "execution_count": 87,
   "metadata": {},
   "outputs": [],
   "source": [
    "import dis"
   ]
  },
  {
   "cell_type": "code",
   "execution_count": 88,
   "metadata": {},
   "outputs": [
    {
     "name": "stdout",
     "output_type": "stream",
     "text": [
      "  2           0 LOAD_CONST               1 (1)\n",
      "              2 LOAD_CONST               1 (1)\n",
      "              4 BUILD_LIST               2\n",
      "              6 STORE_FAST               2 (factorial)\n",
      "\n",
      "  3           8 SETUP_LOOP              44 (to 54)\n",
      "             10 LOAD_GLOBAL              0 (range)\n",
      "             12 LOAD_CONST               2 (2)\n",
      "             14 LOAD_GLOBAL              1 (len)\n",
      "             16 LOAD_FAST                0 (S)\n",
      "             18 CALL_FUNCTION            1\n",
      "             20 CALL_FUNCTION            2\n",
      "             22 GET_ITER\n",
      "        >>   24 FOR_ITER                26 (to 52)\n",
      "             26 STORE_FAST               3 (i)\n",
      "\n",
      "  4          28 LOAD_FAST                2 (factorial)\n",
      "             30 LOAD_ATTR                2 (append)\n",
      "             32 LOAD_FAST                3 (i)\n",
      "             34 LOAD_FAST                2 (factorial)\n",
      "             36 LOAD_FAST                3 (i)\n",
      "             38 LOAD_CONST               1 (1)\n",
      "             40 BINARY_SUBTRACT\n",
      "             42 BINARY_SUBSCR\n",
      "             44 BINARY_MULTIPLY\n",
      "             46 CALL_FUNCTION            1\n",
      "             48 POP_TOP\n",
      "             50 JUMP_ABSOLUTE           24\n",
      "        >>   52 POP_BLOCK\n",
      "\n",
      "  5     >>   54 BUILD_LIST               0\n",
      "             56 STORE_FAST               4 (R)\n",
      "\n",
      "  6          58 LOAD_FAST                1 (index)\n",
      "             60 STORE_FAST               5 (remainder)\n",
      "\n",
      "  7          62 SETUP_LOOP              72 (to 136)\n",
      "        >>   64 LOAD_FAST                5 (remainder)\n",
      "             66 LOAD_CONST               3 (0)\n",
      "             68 COMPARE_OP               4 (>)\n",
      "             70 POP_JUMP_IF_FALSE      134\n",
      "\n",
      "  8          72 LOAD_GLOBAL              1 (len)\n",
      "             74 LOAD_FAST                0 (S)\n",
      "             76 CALL_FUNCTION            1\n",
      "             78 LOAD_CONST               1 (1)\n",
      "             80 BINARY_SUBTRACT\n",
      "             82 STORE_FAST               6 (n)\n",
      "\n",
      "  9          84 LOAD_FAST                5 (remainder)\n",
      "             86 LOAD_FAST                2 (factorial)\n",
      "             88 LOAD_FAST                6 (n)\n",
      "             90 BINARY_SUBSCR\n",
      "             92 BINARY_FLOOR_DIVIDE\n",
      "             94 STORE_FAST               1 (index)\n",
      "\n",
      " 10          96 LOAD_FAST                5 (remainder)\n",
      "             98 LOAD_FAST                1 (index)\n",
      "            100 LOAD_FAST                2 (factorial)\n",
      "            102 LOAD_FAST                6 (n)\n",
      "            104 BINARY_SUBSCR\n",
      "            106 BINARY_MULTIPLY\n",
      "            108 INPLACE_SUBTRACT\n",
      "            110 STORE_FAST               5 (remainder)\n",
      "\n",
      " 11         112 LOAD_FAST                4 (R)\n",
      "            114 LOAD_ATTR                2 (append)\n",
      "            116 LOAD_FAST                0 (S)\n",
      "            118 LOAD_FAST                1 (index)\n",
      "            120 BINARY_SUBSCR\n",
      "            122 CALL_FUNCTION            1\n",
      "            124 POP_TOP\n",
      "\n",
      " 12         126 LOAD_FAST                0 (S)\n",
      "            128 LOAD_FAST                1 (index)\n",
      "            130 DELETE_SUBSCR\n",
      "            132 JUMP_ABSOLUTE           64\n",
      "        >>  134 POP_BLOCK\n",
      "\n",
      " 13     >>  136 LOAD_FAST                4 (R)\n",
      "            138 LOAD_FAST                0 (S)\n",
      "            140 BINARY_ADD\n",
      "            142 RETURN_VALUE\n"
     ]
    }
   ],
   "source": [
    "dis.dis(find_permutation_at_index)"
   ]
  },
  {
   "cell_type": "code",
   "execution_count": null,
   "metadata": {},
   "outputs": [],
   "source": []
  }
 ],
 "metadata": {
  "kernelspec": {
   "display_name": "Python 3",
   "language": "python",
   "name": "python3"
  },
  "language_info": {
   "codemirror_mode": {
    "name": "ipython",
    "version": 3
   },
   "file_extension": ".py",
   "mimetype": "text/x-python",
   "name": "python",
   "nbconvert_exporter": "python",
   "pygments_lexer": "ipython3",
   "version": "3.6.3"
  }
 },
 "nbformat": 4,
 "nbformat_minor": 2
}
