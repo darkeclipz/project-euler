{
 "cells": [
  {
   "cell_type": "markdown",
   "metadata": {},
   "source": [
    "# Problem"
   ]
  },
  {
   "cell_type": "markdown",
   "metadata": {},
   "source": [
    "$ \\sum 1 $"
   ]
  },
  {
   "cell_type": "markdown",
   "metadata": {},
   "source": [
    "By starting at the top of the triangle below and moving to adjacent numbers on the row below, the maximum total from top to bottom is 23.\n",
    "\n",
    "    3\n",
    "    7 4\n",
    "    2 4 6\n",
    "    8 5 9 3\n",
    "\n",
    "That is, 3 + 7 + 4 + 9 = 23.\n",
    "\n",
    "Find the maximum total from top to bottom of the triangle below:\n",
    "\n",
    "    75\n",
    "    95 64\n",
    "    17 47 82\n",
    "    18 35 87 10\n",
    "    20 04 82 47 65\n",
    "    19 01 23 75 03 34\n",
    "    88 02 77 73 07 63 67\n",
    "    99 65 04 28 06 16 70 92\n",
    "    41 41 26 56 83 40 80 70 33\n",
    "    41 48 72 33 47 32 37 16 94 29\n",
    "    53 71 44 65 25 43 91 52 97 51 14\n",
    "    70 11 33 28 77 73 17 78 39 68 17 57\n",
    "    91 71 52 38 17 14 91 43 58 50 27 29 48\n",
    "    63 66 04 68 89 53 67 30 73 16 69 87 40 31\n",
    "    04 62 98 27 23 09 70 98 73 93 38 53 60 04 23\n",
    "\n",
    "NOTE: As there are only 16384 routes, it is possible to solve this problem by trying every route. However, Problem 67, is the same challenge with a triangle containing one-hundred rows; it cannot be solved by brute force, and requires a clever method! ;o)"
   ]
  },
  {
   "cell_type": "markdown",
   "metadata": {},
   "source": [
    "# Data"
   ]
  },
  {
   "cell_type": "markdown",
   "metadata": {},
   "source": [
    "First we want to read in the data, and parse it into a list of numbers."
   ]
  },
  {
   "cell_type": "code",
   "execution_count": 1,
   "metadata": {
    "scrolled": true
   },
   "outputs": [
    {
     "data": {
      "text/html": [
       "<ol class=list-inline>\n",
       "\t<li>75</li>\n",
       "\t<li>95</li>\n",
       "\t<li>64</li>\n",
       "\t<li>17</li>\n",
       "\t<li>47</li>\n",
       "\t<li>82</li>\n",
       "\t<li>18</li>\n",
       "\t<li>35</li>\n",
       "\t<li>87</li>\n",
       "\t<li>10</li>\n",
       "\t<li>20</li>\n",
       "\t<li>4</li>\n",
       "\t<li>82</li>\n",
       "\t<li>47</li>\n",
       "\t<li>65</li>\n",
       "\t<li>19</li>\n",
       "\t<li>1</li>\n",
       "\t<li>23</li>\n",
       "\t<li>75</li>\n",
       "\t<li>3</li>\n",
       "\t<li>34</li>\n",
       "\t<li>88</li>\n",
       "\t<li>2</li>\n",
       "\t<li>77</li>\n",
       "\t<li>73</li>\n",
       "\t<li>7</li>\n",
       "\t<li>63</li>\n",
       "\t<li>67</li>\n",
       "\t<li>99</li>\n",
       "\t<li>65</li>\n",
       "\t<li>4</li>\n",
       "\t<li>28</li>\n",
       "\t<li>6</li>\n",
       "\t<li>16</li>\n",
       "\t<li>70</li>\n",
       "\t<li>92</li>\n",
       "\t<li>41</li>\n",
       "\t<li>41</li>\n",
       "\t<li>26</li>\n",
       "\t<li>56</li>\n",
       "\t<li>83</li>\n",
       "\t<li>40</li>\n",
       "\t<li>80</li>\n",
       "\t<li>70</li>\n",
       "\t<li>33</li>\n",
       "\t<li>41</li>\n",
       "\t<li>48</li>\n",
       "\t<li>72</li>\n",
       "\t<li>33</li>\n",
       "\t<li>47</li>\n",
       "\t<li>32</li>\n",
       "\t<li>37</li>\n",
       "\t<li>16</li>\n",
       "\t<li>94</li>\n",
       "\t<li>29</li>\n",
       "\t<li>53</li>\n",
       "\t<li>71</li>\n",
       "\t<li>44</li>\n",
       "\t<li>65</li>\n",
       "\t<li>25</li>\n",
       "\t<li>43</li>\n",
       "\t<li>91</li>\n",
       "\t<li>52</li>\n",
       "\t<li>97</li>\n",
       "\t<li>51</li>\n",
       "\t<li>14</li>\n",
       "\t<li>70</li>\n",
       "\t<li>11</li>\n",
       "\t<li>33</li>\n",
       "\t<li>28</li>\n",
       "\t<li>77</li>\n",
       "\t<li>73</li>\n",
       "\t<li>17</li>\n",
       "\t<li>78</li>\n",
       "\t<li>39</li>\n",
       "\t<li>68</li>\n",
       "\t<li>17</li>\n",
       "\t<li>57</li>\n",
       "\t<li>91</li>\n",
       "\t<li>71</li>\n",
       "\t<li>52</li>\n",
       "\t<li>38</li>\n",
       "\t<li>17</li>\n",
       "\t<li>14</li>\n",
       "\t<li>91</li>\n",
       "\t<li>43</li>\n",
       "\t<li>58</li>\n",
       "\t<li>50</li>\n",
       "\t<li>27</li>\n",
       "\t<li>29</li>\n",
       "\t<li>48</li>\n",
       "\t<li>63</li>\n",
       "\t<li>66</li>\n",
       "\t<li>4</li>\n",
       "\t<li>68</li>\n",
       "\t<li>89</li>\n",
       "\t<li>53</li>\n",
       "\t<li>67</li>\n",
       "\t<li>30</li>\n",
       "\t<li>73</li>\n",
       "\t<li>16</li>\n",
       "\t<li>69</li>\n",
       "\t<li>87</li>\n",
       "\t<li>40</li>\n",
       "\t<li>31</li>\n",
       "\t<li>4</li>\n",
       "\t<li>62</li>\n",
       "\t<li>98</li>\n",
       "\t<li>27</li>\n",
       "\t<li>23</li>\n",
       "\t<li>9</li>\n",
       "\t<li>70</li>\n",
       "\t<li>98</li>\n",
       "\t<li>73</li>\n",
       "\t<li>93</li>\n",
       "\t<li>38</li>\n",
       "\t<li>53</li>\n",
       "\t<li>60</li>\n",
       "\t<li>4</li>\n",
       "\t<li>23</li>\n",
       "</ol>\n"
      ],
      "text/latex": [
       "\\begin{enumerate*}\n",
       "\\item 75\n",
       "\\item 95\n",
       "\\item 64\n",
       "\\item 17\n",
       "\\item 47\n",
       "\\item 82\n",
       "\\item 18\n",
       "\\item 35\n",
       "\\item 87\n",
       "\\item 10\n",
       "\\item 20\n",
       "\\item 4\n",
       "\\item 82\n",
       "\\item 47\n",
       "\\item 65\n",
       "\\item 19\n",
       "\\item 1\n",
       "\\item 23\n",
       "\\item 75\n",
       "\\item 3\n",
       "\\item 34\n",
       "\\item 88\n",
       "\\item 2\n",
       "\\item 77\n",
       "\\item 73\n",
       "\\item 7\n",
       "\\item 63\n",
       "\\item 67\n",
       "\\item 99\n",
       "\\item 65\n",
       "\\item 4\n",
       "\\item 28\n",
       "\\item 6\n",
       "\\item 16\n",
       "\\item 70\n",
       "\\item 92\n",
       "\\item 41\n",
       "\\item 41\n",
       "\\item 26\n",
       "\\item 56\n",
       "\\item 83\n",
       "\\item 40\n",
       "\\item 80\n",
       "\\item 70\n",
       "\\item 33\n",
       "\\item 41\n",
       "\\item 48\n",
       "\\item 72\n",
       "\\item 33\n",
       "\\item 47\n",
       "\\item 32\n",
       "\\item 37\n",
       "\\item 16\n",
       "\\item 94\n",
       "\\item 29\n",
       "\\item 53\n",
       "\\item 71\n",
       "\\item 44\n",
       "\\item 65\n",
       "\\item 25\n",
       "\\item 43\n",
       "\\item 91\n",
       "\\item 52\n",
       "\\item 97\n",
       "\\item 51\n",
       "\\item 14\n",
       "\\item 70\n",
       "\\item 11\n",
       "\\item 33\n",
       "\\item 28\n",
       "\\item 77\n",
       "\\item 73\n",
       "\\item 17\n",
       "\\item 78\n",
       "\\item 39\n",
       "\\item 68\n",
       "\\item 17\n",
       "\\item 57\n",
       "\\item 91\n",
       "\\item 71\n",
       "\\item 52\n",
       "\\item 38\n",
       "\\item 17\n",
       "\\item 14\n",
       "\\item 91\n",
       "\\item 43\n",
       "\\item 58\n",
       "\\item 50\n",
       "\\item 27\n",
       "\\item 29\n",
       "\\item 48\n",
       "\\item 63\n",
       "\\item 66\n",
       "\\item 4\n",
       "\\item 68\n",
       "\\item 89\n",
       "\\item 53\n",
       "\\item 67\n",
       "\\item 30\n",
       "\\item 73\n",
       "\\item 16\n",
       "\\item 69\n",
       "\\item 87\n",
       "\\item 40\n",
       "\\item 31\n",
       "\\item 4\n",
       "\\item 62\n",
       "\\item 98\n",
       "\\item 27\n",
       "\\item 23\n",
       "\\item 9\n",
       "\\item 70\n",
       "\\item 98\n",
       "\\item 73\n",
       "\\item 93\n",
       "\\item 38\n",
       "\\item 53\n",
       "\\item 60\n",
       "\\item 4\n",
       "\\item 23\n",
       "\\end{enumerate*}\n"
      ],
      "text/markdown": [
       "1. 75\n",
       "2. 95\n",
       "3. 64\n",
       "4. 17\n",
       "5. 47\n",
       "6. 82\n",
       "7. 18\n",
       "8. 35\n",
       "9. 87\n",
       "10. 10\n",
       "11. 20\n",
       "12. 4\n",
       "13. 82\n",
       "14. 47\n",
       "15. 65\n",
       "16. 19\n",
       "17. 1\n",
       "18. 23\n",
       "19. 75\n",
       "20. 3\n",
       "21. 34\n",
       "22. 88\n",
       "23. 2\n",
       "24. 77\n",
       "25. 73\n",
       "26. 7\n",
       "27. 63\n",
       "28. 67\n",
       "29. 99\n",
       "30. 65\n",
       "31. 4\n",
       "32. 28\n",
       "33. 6\n",
       "34. 16\n",
       "35. 70\n",
       "36. 92\n",
       "37. 41\n",
       "38. 41\n",
       "39. 26\n",
       "40. 56\n",
       "41. 83\n",
       "42. 40\n",
       "43. 80\n",
       "44. 70\n",
       "45. 33\n",
       "46. 41\n",
       "47. 48\n",
       "48. 72\n",
       "49. 33\n",
       "50. 47\n",
       "51. 32\n",
       "52. 37\n",
       "53. 16\n",
       "54. 94\n",
       "55. 29\n",
       "56. 53\n",
       "57. 71\n",
       "58. 44\n",
       "59. 65\n",
       "60. 25\n",
       "61. 43\n",
       "62. 91\n",
       "63. 52\n",
       "64. 97\n",
       "65. 51\n",
       "66. 14\n",
       "67. 70\n",
       "68. 11\n",
       "69. 33\n",
       "70. 28\n",
       "71. 77\n",
       "72. 73\n",
       "73. 17\n",
       "74. 78\n",
       "75. 39\n",
       "76. 68\n",
       "77. 17\n",
       "78. 57\n",
       "79. 91\n",
       "80. 71\n",
       "81. 52\n",
       "82. 38\n",
       "83. 17\n",
       "84. 14\n",
       "85. 91\n",
       "86. 43\n",
       "87. 58\n",
       "88. 50\n",
       "89. 27\n",
       "90. 29\n",
       "91. 48\n",
       "92. 63\n",
       "93. 66\n",
       "94. 4\n",
       "95. 68\n",
       "96. 89\n",
       "97. 53\n",
       "98. 67\n",
       "99. 30\n",
       "100. 73\n",
       "101. 16\n",
       "102. 69\n",
       "103. 87\n",
       "104. 40\n",
       "105. 31\n",
       "106. 4\n",
       "107. 62\n",
       "108. 98\n",
       "109. 27\n",
       "110. 23\n",
       "111. 9\n",
       "112. 70\n",
       "113. 98\n",
       "114. 73\n",
       "115. 93\n",
       "116. 38\n",
       "117. 53\n",
       "118. 60\n",
       "119. 4\n",
       "120. 23\n",
       "\n",
       "\n"
      ],
      "text/plain": [
       "  [1] 75 95 64 17 47 82 18 35 87 10 20  4 82 47 65 19  1 23 75  3 34 88  2 77 73\n",
       " [26]  7 63 67 99 65  4 28  6 16 70 92 41 41 26 56 83 40 80 70 33 41 48 72 33 47\n",
       " [51] 32 37 16 94 29 53 71 44 65 25 43 91 52 97 51 14 70 11 33 28 77 73 17 78 39\n",
       " [76] 68 17 57 91 71 52 38 17 14 91 43 58 50 27 29 48 63 66  4 68 89 53 67 30 73\n",
       "[101] 16 69 87 40 31  4 62 98 27 23  9 70 98 73 93 38 53 60  4 23"
      ]
     },
     "metadata": {},
     "output_type": "display_data"
    }
   ],
   "source": [
    "raw <- '75 95 64 17 47 82 18 35 87 10 20 04 82 47 65 19 01\n",
    " 23 75 03 34 88 02 77 73 07 63 67 99 65 04 28 06 16 70 92\n",
    " 41 41 26 56 83 40 80 70 33 41 48 72 33 47 32 37 16 94 29\n",
    " 53 71 44 65 25 43 91 52 97 51 14 70 11 33 28 77 73 17 78\n",
    " 39 68 17 57 91 71 52 38 17 14 91 43 58 50 27 29 48 63 66\n",
    " 04 68 89 53 67 30 73 16 69 87 40 31 04 62 98 27 23 09 70\n",
    " 98 73 93 38 53 60 04 23'\n",
    "\n",
    "data <- c(lapply(strsplit(raw, ' '), as.numeric)[[1]])\n",
    "data"
   ]
  },
  {
   "cell_type": "code",
   "execution_count": 2,
   "metadata": {
    "scrolled": false
   },
   "outputs": [
    {
     "data": {
      "text/html": [
       "120"
      ],
      "text/latex": [
       "120"
      ],
      "text/markdown": [
       "120"
      ],
      "text/plain": [
       "[1] 120"
      ]
     },
     "metadata": {},
     "output_type": "display_data"
    }
   ],
   "source": [
    "length(data)"
   ]
  },
  {
   "cell_type": "markdown",
   "metadata": {},
   "source": [
    "# Data Structure"
   ]
  },
  {
   "cell_type": "markdown",
   "metadata": {},
   "source": [
    "We want to create a few functions that:\n",
    "\n",
    " * Return the row number for any given index.\n",
    " * Return the child indices for any given index.\n",
    " * Find the value in the data for any given index.\n",
    " * Return the indices for any given value."
   ]
  },
  {
   "cell_type": "markdown",
   "metadata": {},
   "source": [
    "We want to create a function `in.row(x)` that finds the row number for any given index:"
   ]
  },
  {
   "cell_type": "code",
   "execution_count": 437,
   "metadata": {},
   "outputs": [],
   "source": [
    "in.row <- function(x) {\n",
    "    row <- 0\n",
    "    current <- 0\n",
    "    while(current < x) {\n",
    "        row = row + 1\n",
    "        current = current + row\n",
    "    }\n",
    "    (row)\n",
    "}"
   ]
  },
  {
   "cell_type": "code",
   "execution_count": 438,
   "metadata": {
    "scrolled": true
   },
   "outputs": [
    {
     "data": {
      "text/html": [
       "2"
      ],
      "text/latex": [
       "2"
      ],
      "text/markdown": [
       "2"
      ],
      "text/plain": [
       "[1] 2"
      ]
     },
     "metadata": {},
     "output_type": "display_data"
    }
   ],
   "source": [
    "in.row(3)"
   ]
  },
  {
   "cell_type": "markdown",
   "metadata": {},
   "source": [
    "For any given index, we want to a function `find.children(index)` that finds the child indices."
   ]
  },
  {
   "cell_type": "code",
   "execution_count": 439,
   "metadata": {},
   "outputs": [],
   "source": [
    "find.children <- function(index) {\n",
    "    row.size = in.row(index)\n",
    "    c(index+row.size, index+row.size+1)\n",
    "}"
   ]
  },
  {
   "cell_type": "code",
   "execution_count": 440,
   "metadata": {},
   "outputs": [
    {
     "data": {
      "text/html": [
       "<ol class=list-inline>\n",
       "\t<li>8</li>\n",
       "\t<li>9</li>\n",
       "</ol>\n"
      ],
      "text/latex": [
       "\\begin{enumerate*}\n",
       "\\item 8\n",
       "\\item 9\n",
       "\\end{enumerate*}\n"
      ],
      "text/markdown": [
       "1. 8\n",
       "2. 9\n",
       "\n",
       "\n"
      ],
      "text/plain": [
       "[1] 8 9"
      ]
     },
     "metadata": {},
     "output_type": "display_data"
    }
   ],
   "source": [
    "find.children(5)"
   ]
  },
  {
   "cell_type": "markdown",
   "metadata": {},
   "source": [
    "For any given index, we want create a function `find.value(x)` that finds the value."
   ]
  },
  {
   "cell_type": "code",
   "execution_count": 441,
   "metadata": {},
   "outputs": [],
   "source": [
    "find.value <- function(x) data[x]"
   ]
  },
  {
   "cell_type": "markdown",
   "metadata": {},
   "source": [
    "For any given value, we want create a function `find.index(x)` that finds the indices."
   ]
  },
  {
   "cell_type": "code",
   "execution_count": 442,
   "metadata": {},
   "outputs": [],
   "source": [
    "find.index <- function(x) which(x == data)"
   ]
  },
  {
   "cell_type": "code",
   "execution_count": 443,
   "metadata": {},
   "outputs": [
    {
     "data": {
      "text/html": [
       "<ol class=list-inline>\n",
       "\t<li>6</li>\n",
       "\t<li>13</li>\n",
       "</ol>\n"
      ],
      "text/latex": [
       "\\begin{enumerate*}\n",
       "\\item 6\n",
       "\\item 13\n",
       "\\end{enumerate*}\n"
      ],
      "text/markdown": [
       "1. 6\n",
       "2. 13\n",
       "\n",
       "\n"
      ],
      "text/plain": [
       "[1]  6 13"
      ]
     },
     "metadata": {},
     "output_type": "display_data"
    }
   ],
   "source": [
    "find.index(82)"
   ]
  },
  {
   "cell_type": "code",
   "execution_count": 444,
   "metadata": {},
   "outputs": [
    {
     "data": {
      "text/html": [
       "<ol>\n",
       "\t<li>82</li>\n",
       "\t<li>82</li>\n",
       "</ol>\n"
      ],
      "text/latex": [
       "\\begin{enumerate}\n",
       "\\item 82\n",
       "\\item 82\n",
       "\\end{enumerate}\n"
      ],
      "text/markdown": [
       "1. 82\n",
       "2. 82\n",
       "\n",
       "\n"
      ],
      "text/plain": [
       "[[1]]\n",
       "[1] 82\n",
       "\n",
       "[[2]]\n",
       "[1] 82\n"
      ]
     },
     "metadata": {},
     "output_type": "display_data"
    }
   ],
   "source": [
    "lapply(find.index(82), find.value)"
   ]
  },
  {
   "cell_type": "markdown",
   "metadata": {},
   "source": [
    "## Triangle sequence to matrix"
   ]
  },
  {
   "cell_type": "markdown",
   "metadata": {},
   "source": [
    "We want to create a function `triangle.as.matrix(sequence)` that creates a $N\\times N$ matrix from the sequence of values."
   ]
  },
  {
   "cell_type": "code",
   "execution_count": 458,
   "metadata": {},
   "outputs": [],
   "source": [
    "triangle.as.matrix <- function(seq, N) {\n",
    "    M = matrix(, ncol=N, nrow=N)\n",
    "    row = 1\n",
    "    column = 1\n",
    "    row.max = 1\n",
    "    for (i in 1:length(seq)) {\n",
    "        # If we are at the end of the row, move to the next one.\n",
    "        # For every row, it increases the row size by 1.\n",
    "        if(i > row.max) {\n",
    "            row.max = row.max+row+1\n",
    "            row = in.row(i)\n",
    "            column = 1\n",
    "        }\n",
    "        M[row, column] = seq[i]\n",
    "        column = column+1\n",
    "    }\n",
    "    dimnames(M) <- list(rownames(M, do.NULL = FALSE, prefix='r'),\n",
    "                          colnames(M, do.NULL = FALSE, prefix='c'))\n",
    "    (M)\n",
    "}"
   ]
  },
  {
   "cell_type": "code",
   "execution_count": 459,
   "metadata": {
    "scrolled": false
   },
   "outputs": [
    {
     "data": {
      "text/html": [
       "<table>\n",
       "<thead><tr><th></th><th scope=col>c1</th><th scope=col>c2</th><th scope=col>c3</th><th scope=col>c4</th><th scope=col>c5</th><th scope=col>c6</th><th scope=col>c7</th><th scope=col>c8</th><th scope=col>c9</th><th scope=col>c10</th><th scope=col>c11</th><th scope=col>c12</th><th scope=col>c13</th><th scope=col>c14</th><th scope=col>c15</th></tr></thead>\n",
       "<tbody>\n",
       "\t<tr><th scope=row>r1</th><td>75</td><td>NA</td><td>NA</td><td>NA</td><td>NA</td><td>NA</td><td>NA</td><td>NA</td><td>NA</td><td>NA</td><td>NA</td><td>NA</td><td>NA</td><td>NA</td><td>NA</td></tr>\n",
       "\t<tr><th scope=row>r2</th><td>95</td><td>64</td><td>NA</td><td>NA</td><td>NA</td><td>NA</td><td>NA</td><td>NA</td><td>NA</td><td>NA</td><td>NA</td><td>NA</td><td>NA</td><td>NA</td><td>NA</td></tr>\n",
       "\t<tr><th scope=row>r3</th><td>17</td><td>47</td><td>82</td><td>NA</td><td>NA</td><td>NA</td><td>NA</td><td>NA</td><td>NA</td><td>NA</td><td>NA</td><td>NA</td><td>NA</td><td>NA</td><td>NA</td></tr>\n",
       "\t<tr><th scope=row>r4</th><td>18</td><td>35</td><td>87</td><td>10</td><td>NA</td><td>NA</td><td>NA</td><td>NA</td><td>NA</td><td>NA</td><td>NA</td><td>NA</td><td>NA</td><td>NA</td><td>NA</td></tr>\n",
       "\t<tr><th scope=row>r5</th><td>20</td><td> 4</td><td>82</td><td>47</td><td>65</td><td>NA</td><td>NA</td><td>NA</td><td>NA</td><td>NA</td><td>NA</td><td>NA</td><td>NA</td><td>NA</td><td>NA</td></tr>\n",
       "\t<tr><th scope=row>r6</th><td>19</td><td> 1</td><td>23</td><td>75</td><td> 3</td><td>34</td><td>NA</td><td>NA</td><td>NA</td><td>NA</td><td>NA</td><td>NA</td><td>NA</td><td>NA</td><td>NA</td></tr>\n",
       "\t<tr><th scope=row>r7</th><td>88</td><td> 2</td><td>77</td><td>73</td><td> 7</td><td>63</td><td>67</td><td>NA</td><td>NA</td><td>NA</td><td>NA</td><td>NA</td><td>NA</td><td>NA</td><td>NA</td></tr>\n",
       "\t<tr><th scope=row>r8</th><td>99</td><td>65</td><td> 4</td><td>28</td><td> 6</td><td>16</td><td>70</td><td>92</td><td>NA</td><td>NA</td><td>NA</td><td>NA</td><td>NA</td><td>NA</td><td>NA</td></tr>\n",
       "\t<tr><th scope=row>r9</th><td>41</td><td>41</td><td>26</td><td>56</td><td>83</td><td>40</td><td>80</td><td>70</td><td>33</td><td>NA</td><td>NA</td><td>NA</td><td>NA</td><td>NA</td><td>NA</td></tr>\n",
       "\t<tr><th scope=row>r10</th><td>41</td><td>48</td><td>72</td><td>33</td><td>47</td><td>32</td><td>37</td><td>16</td><td>94</td><td>29</td><td>NA</td><td>NA</td><td>NA</td><td>NA</td><td>NA</td></tr>\n",
       "\t<tr><th scope=row>r11</th><td>53</td><td>71</td><td>44</td><td>65</td><td>25</td><td>43</td><td>91</td><td>52</td><td>97</td><td>51</td><td>14</td><td>NA</td><td>NA</td><td>NA</td><td>NA</td></tr>\n",
       "\t<tr><th scope=row>r12</th><td>70</td><td>11</td><td>33</td><td>28</td><td>77</td><td>73</td><td>17</td><td>78</td><td>39</td><td>68</td><td>17</td><td>57</td><td>NA</td><td>NA</td><td>NA</td></tr>\n",
       "\t<tr><th scope=row>r13</th><td>91</td><td>71</td><td>52</td><td>38</td><td>17</td><td>14</td><td>91</td><td>43</td><td>58</td><td>50</td><td>27</td><td>29</td><td>48</td><td>NA</td><td>NA</td></tr>\n",
       "\t<tr><th scope=row>r14</th><td>63</td><td>66</td><td> 4</td><td>68</td><td>89</td><td>53</td><td>67</td><td>30</td><td>73</td><td>16</td><td>69</td><td>87</td><td>40</td><td>31</td><td>NA</td></tr>\n",
       "\t<tr><th scope=row>r15</th><td> 4</td><td>62</td><td>98</td><td>27</td><td>23</td><td> 9</td><td>70</td><td>98</td><td>73</td><td>93</td><td>38</td><td>53</td><td>60</td><td> 4</td><td>23</td></tr>\n",
       "</tbody>\n",
       "</table>\n"
      ],
      "text/latex": [
       "\\begin{tabular}{r|lllllllllllllll}\n",
       "  & c1 & c2 & c3 & c4 & c5 & c6 & c7 & c8 & c9 & c10 & c11 & c12 & c13 & c14 & c15\\\\\n",
       "\\hline\n",
       "\tr1 & 75 & NA & NA & NA & NA & NA & NA & NA & NA & NA & NA & NA & NA & NA & NA\\\\\n",
       "\tr2 & 95 & 64 & NA & NA & NA & NA & NA & NA & NA & NA & NA & NA & NA & NA & NA\\\\\n",
       "\tr3 & 17 & 47 & 82 & NA & NA & NA & NA & NA & NA & NA & NA & NA & NA & NA & NA\\\\\n",
       "\tr4 & 18 & 35 & 87 & 10 & NA & NA & NA & NA & NA & NA & NA & NA & NA & NA & NA\\\\\n",
       "\tr5 & 20 &  4 & 82 & 47 & 65 & NA & NA & NA & NA & NA & NA & NA & NA & NA & NA\\\\\n",
       "\tr6 & 19 &  1 & 23 & 75 &  3 & 34 & NA & NA & NA & NA & NA & NA & NA & NA & NA\\\\\n",
       "\tr7 & 88 &  2 & 77 & 73 &  7 & 63 & 67 & NA & NA & NA & NA & NA & NA & NA & NA\\\\\n",
       "\tr8 & 99 & 65 &  4 & 28 &  6 & 16 & 70 & 92 & NA & NA & NA & NA & NA & NA & NA\\\\\n",
       "\tr9 & 41 & 41 & 26 & 56 & 83 & 40 & 80 & 70 & 33 & NA & NA & NA & NA & NA & NA\\\\\n",
       "\tr10 & 41 & 48 & 72 & 33 & 47 & 32 & 37 & 16 & 94 & 29 & NA & NA & NA & NA & NA\\\\\n",
       "\tr11 & 53 & 71 & 44 & 65 & 25 & 43 & 91 & 52 & 97 & 51 & 14 & NA & NA & NA & NA\\\\\n",
       "\tr12 & 70 & 11 & 33 & 28 & 77 & 73 & 17 & 78 & 39 & 68 & 17 & 57 & NA & NA & NA\\\\\n",
       "\tr13 & 91 & 71 & 52 & 38 & 17 & 14 & 91 & 43 & 58 & 50 & 27 & 29 & 48 & NA & NA\\\\\n",
       "\tr14 & 63 & 66 &  4 & 68 & 89 & 53 & 67 & 30 & 73 & 16 & 69 & 87 & 40 & 31 & NA\\\\\n",
       "\tr15 &  4 & 62 & 98 & 27 & 23 &  9 & 70 & 98 & 73 & 93 & 38 & 53 & 60 &  4 & 23\\\\\n",
       "\\end{tabular}\n"
      ],
      "text/markdown": [
       "\n",
       "| <!--/--> | c1 | c2 | c3 | c4 | c5 | c6 | c7 | c8 | c9 | c10 | c11 | c12 | c13 | c14 | c15 | \n",
       "|---|---|---|---|---|---|---|---|---|---|---|---|---|---|---|\n",
       "| r1 | 75 | NA | NA | NA | NA | NA | NA | NA | NA | NA | NA | NA | NA | NA | NA | \n",
       "| r2 | 95 | 64 | NA | NA | NA | NA | NA | NA | NA | NA | NA | NA | NA | NA | NA | \n",
       "| r3 | 17 | 47 | 82 | NA | NA | NA | NA | NA | NA | NA | NA | NA | NA | NA | NA | \n",
       "| r4 | 18 | 35 | 87 | 10 | NA | NA | NA | NA | NA | NA | NA | NA | NA | NA | NA | \n",
       "| r5 | 20 |  4 | 82 | 47 | 65 | NA | NA | NA | NA | NA | NA | NA | NA | NA | NA | \n",
       "| r6 | 19 |  1 | 23 | 75 |  3 | 34 | NA | NA | NA | NA | NA | NA | NA | NA | NA | \n",
       "| r7 | 88 |  2 | 77 | 73 |  7 | 63 | 67 | NA | NA | NA | NA | NA | NA | NA | NA | \n",
       "| r8 | 99 | 65 |  4 | 28 |  6 | 16 | 70 | 92 | NA | NA | NA | NA | NA | NA | NA | \n",
       "| r9 | 41 | 41 | 26 | 56 | 83 | 40 | 80 | 70 | 33 | NA | NA | NA | NA | NA | NA | \n",
       "| r10 | 41 | 48 | 72 | 33 | 47 | 32 | 37 | 16 | 94 | 29 | NA | NA | NA | NA | NA | \n",
       "| r11 | 53 | 71 | 44 | 65 | 25 | 43 | 91 | 52 | 97 | 51 | 14 | NA | NA | NA | NA | \n",
       "| r12 | 70 | 11 | 33 | 28 | 77 | 73 | 17 | 78 | 39 | 68 | 17 | 57 | NA | NA | NA | \n",
       "| r13 | 91 | 71 | 52 | 38 | 17 | 14 | 91 | 43 | 58 | 50 | 27 | 29 | 48 | NA | NA | \n",
       "| r14 | 63 | 66 |  4 | 68 | 89 | 53 | 67 | 30 | 73 | 16 | 69 | 87 | 40 | 31 | NA | \n",
       "| r15 |  4 | 62 | 98 | 27 | 23 |  9 | 70 | 98 | 73 | 93 | 38 | 53 | 60 |  4 | 23 | \n",
       "\n",
       "\n"
      ],
      "text/plain": [
       "    c1 c2 c3 c4 c5 c6 c7 c8 c9 c10 c11 c12 c13 c14 c15\n",
       "r1  75 NA NA NA NA NA NA NA NA NA  NA  NA  NA  NA  NA \n",
       "r2  95 64 NA NA NA NA NA NA NA NA  NA  NA  NA  NA  NA \n",
       "r3  17 47 82 NA NA NA NA NA NA NA  NA  NA  NA  NA  NA \n",
       "r4  18 35 87 10 NA NA NA NA NA NA  NA  NA  NA  NA  NA \n",
       "r5  20  4 82 47 65 NA NA NA NA NA  NA  NA  NA  NA  NA \n",
       "r6  19  1 23 75  3 34 NA NA NA NA  NA  NA  NA  NA  NA \n",
       "r7  88  2 77 73  7 63 67 NA NA NA  NA  NA  NA  NA  NA \n",
       "r8  99 65  4 28  6 16 70 92 NA NA  NA  NA  NA  NA  NA \n",
       "r9  41 41 26 56 83 40 80 70 33 NA  NA  NA  NA  NA  NA \n",
       "r10 41 48 72 33 47 32 37 16 94 29  NA  NA  NA  NA  NA \n",
       "r11 53 71 44 65 25 43 91 52 97 51  14  NA  NA  NA  NA \n",
       "r12 70 11 33 28 77 73 17 78 39 68  17  57  NA  NA  NA \n",
       "r13 91 71 52 38 17 14 91 43 58 50  27  29  48  NA  NA \n",
       "r14 63 66  4 68 89 53 67 30 73 16  69  87  40  31  NA \n",
       "r15  4 62 98 27 23  9 70 98 73 93  38  53  60   4  23 "
      ]
     },
     "metadata": {},
     "output_type": "display_data"
    }
   ],
   "source": [
    "M = triangle.as.matrix(data, 15)\n",
    "M"
   ]
  },
  {
   "cell_type": "markdown",
   "metadata": {},
   "source": [
    "## Heatmap of $M$"
   ]
  },
  {
   "cell_type": "markdown",
   "metadata": {},
   "source": [
    "If plot the matrix as a heatmap, we can easily see how the values are distributed in the triangle from low to high."
   ]
  },
  {
   "cell_type": "code",
   "execution_count": 460,
   "metadata": {},
   "outputs": [],
   "source": [
    "library(gplots)"
   ]
  },
  {
   "cell_type": "code",
   "execution_count": 461,
   "metadata": {
    "scrolled": false
   },
   "outputs": [
    {
     "data": {
      "image/png": "[encoded data removed]",
      "text/plain": [
       "Plot with title \"Color Key\n",
       "and Histogram\""
      ]
     },
     "metadata": {},
     "output_type": "display_data"
    }
   ],
   "source": [
    "heatmap.2(M, Rowv=NA, Colv=NA, col = heat.colors(256),  margins=c(0,0)\n",
    "          , dendrogram='none')"
   ]
  },
  {
   "cell_type": "markdown",
   "metadata": {},
   "source": [
    "# Brute force algorithm"
   ]
  },
  {
   "cell_type": "markdown",
   "metadata": {},
   "source": [
    "We want to find the total value of a path with a function `find.path.value(vec)` where we give a list of indices, and the sum of the values is returned."
   ]
  },
  {
   "cell_type": "code",
   "execution_count": 449,
   "metadata": {},
   "outputs": [],
   "source": [
    "find.path.value <- function(path, data) Reduce('+', find.value(path))"
   ]
  },
  {
   "cell_type": "code",
   "execution_count": 450,
   "metadata": {
    "scrolled": true
   },
   "outputs": [
    {
     "data": {
      "text/html": [
       "170"
      ],
      "text/latex": [
       "170"
      ],
      "text/markdown": [
       "170"
      ],
      "text/plain": [
       "[1] 170"
      ]
     },
     "metadata": {},
     "output_type": "display_data"
    }
   ],
   "source": [
    "find.path.value(c(1,2))"
   ]
  },
  {
   "cell_type": "markdown",
   "metadata": {},
   "source": [
    "Next we create all the possible paths. We only have to save paths that are from top to bottom."
   ]
  },
  {
   "cell_type": "code",
   "execution_count": 451,
   "metadata": {},
   "outputs": [],
   "source": [
    "N = 15\n",
    "frontier = vector(\"list\", N)\n",
    "next_frontier = vector(\"list\", N)\n",
    "frontier[[1]] = c(1)\n",
    "index = 1\n",
    "row = 1\n",
    "\n",
    "while(row < N) {    \n",
    "    next_frontier = vector(\"list\", N)\n",
    "    for (path in Filter(Negate(is.null), frontier))\n",
    "    for (child in find.children(tail(path, n=1))) {\n",
    "        next_frontier[[index]] = c(path,child)\n",
    "        index=index+1\n",
    "    }\n",
    "    frontier = next_frontier\n",
    "    index=1\n",
    "    row=row+1\n",
    "}"
   ]
  },
  {
   "cell_type": "markdown",
   "metadata": {},
   "source": [
    "Finally we find the highest path in the frontier to find the answer."
   ]
  },
  {
   "cell_type": "code",
   "execution_count": 452,
   "metadata": {},
   "outputs": [
    {
     "data": {
      "text/html": [
       "1074"
      ],
      "text/latex": [
       "1074"
      ],
      "text/markdown": [
       "1074"
      ],
      "text/plain": [
       "[1] 1074"
      ]
     },
     "metadata": {},
     "output_type": "display_data"
    }
   ],
   "source": [
    "max = 0\n",
    "for (p in frontier) {\n",
    "    path.value = find.path.value(p)\n",
    "    if(path.value > max) max = path.value\n",
    "}\n",
    "max"
   ]
  },
  {
   "cell_type": "markdown",
   "metadata": {},
   "source": [
    "# A better way"
   ]
  },
  {
   "cell_type": "markdown",
   "metadata": {},
   "source": [
    "It is much easier to start at the bottom of the tree. We create a cumulated triangle from the bottom to the top, and we cumulate with the child node that has the highest value.\n",
    "\n",
    "Starting at the first element in the second last row, we find the child values for those, and add the largest child to the current element. Repeating this for each element while traversing up the triangle, gives us the answer in the top of the triangle.\n",
    "\n",
    "We can do this with the following pseudocode:"
   ]
  },
  {
   "cell_type": "markdown",
   "metadata": {},
   "source": [
    "    For row in 14:1:\n",
    "        For column in row:\n",
    "            M[row,column] += max(M[row+1,column], M[row+1, column+1])"
   ]
  },
  {
   "cell_type": "code",
   "execution_count": 453,
   "metadata": {},
   "outputs": [
    {
     "data": {
      "text/html": [
       "<table>\n",
       "<thead><tr><th></th><th scope=col>c1</th><th scope=col>c2</th><th scope=col>c3</th><th scope=col>c4</th><th scope=col>c5</th><th scope=col>c6</th><th scope=col>c7</th><th scope=col>c8</th><th scope=col>c9</th><th scope=col>c10</th><th scope=col>c11</th><th scope=col>c12</th><th scope=col>c13</th><th scope=col>c14</th><th scope=col>c15</th></tr></thead>\n",
       "<tbody>\n",
       "\t<tr><th scope=row>r1</th><td>75</td><td>NA</td><td>NA</td><td>NA</td><td>NA</td><td>NA</td><td>NA</td><td>NA</td><td>NA</td><td>NA</td><td>NA</td><td>NA</td><td>NA</td><td>NA</td><td>NA</td></tr>\n",
       "\t<tr><th scope=row>r2</th><td>95</td><td>64</td><td>NA</td><td>NA</td><td>NA</td><td>NA</td><td>NA</td><td>NA</td><td>NA</td><td>NA</td><td>NA</td><td>NA</td><td>NA</td><td>NA</td><td>NA</td></tr>\n",
       "\t<tr><th scope=row>r3</th><td>17</td><td>47</td><td>82</td><td>NA</td><td>NA</td><td>NA</td><td>NA</td><td>NA</td><td>NA</td><td>NA</td><td>NA</td><td>NA</td><td>NA</td><td>NA</td><td>NA</td></tr>\n",
       "\t<tr><th scope=row>r4</th><td>18</td><td>35</td><td>87</td><td>10</td><td>NA</td><td>NA</td><td>NA</td><td>NA</td><td>NA</td><td>NA</td><td>NA</td><td>NA</td><td>NA</td><td>NA</td><td>NA</td></tr>\n",
       "\t<tr><th scope=row>r5</th><td>20</td><td> 4</td><td>82</td><td>47</td><td>65</td><td>NA</td><td>NA</td><td>NA</td><td>NA</td><td>NA</td><td>NA</td><td>NA</td><td>NA</td><td>NA</td><td>NA</td></tr>\n",
       "\t<tr><th scope=row>r6</th><td>19</td><td> 1</td><td>23</td><td>75</td><td> 3</td><td>34</td><td>NA</td><td>NA</td><td>NA</td><td>NA</td><td>NA</td><td>NA</td><td>NA</td><td>NA</td><td>NA</td></tr>\n",
       "\t<tr><th scope=row>r7</th><td>88</td><td> 2</td><td>77</td><td>73</td><td> 7</td><td>63</td><td>67</td><td>NA</td><td>NA</td><td>NA</td><td>NA</td><td>NA</td><td>NA</td><td>NA</td><td>NA</td></tr>\n",
       "\t<tr><th scope=row>r8</th><td>99</td><td>65</td><td> 4</td><td>28</td><td> 6</td><td>16</td><td>70</td><td>92</td><td>NA</td><td>NA</td><td>NA</td><td>NA</td><td>NA</td><td>NA</td><td>NA</td></tr>\n",
       "\t<tr><th scope=row>r9</th><td>41</td><td>41</td><td>26</td><td>56</td><td>83</td><td>40</td><td>80</td><td>70</td><td>33</td><td>NA</td><td>NA</td><td>NA</td><td>NA</td><td>NA</td><td>NA</td></tr>\n",
       "\t<tr><th scope=row>r10</th><td>41</td><td>48</td><td>72</td><td>33</td><td>47</td><td>32</td><td>37</td><td>16</td><td>94</td><td>29</td><td>NA</td><td>NA</td><td>NA</td><td>NA</td><td>NA</td></tr>\n",
       "\t<tr><th scope=row>r11</th><td>53</td><td>71</td><td>44</td><td>65</td><td>25</td><td>43</td><td>91</td><td>52</td><td>97</td><td>51</td><td>14</td><td>NA</td><td>NA</td><td>NA</td><td>NA</td></tr>\n",
       "\t<tr><th scope=row>r12</th><td>70</td><td>11</td><td>33</td><td>28</td><td>77</td><td>73</td><td>17</td><td>78</td><td>39</td><td>68</td><td>17</td><td>57</td><td>NA</td><td>NA</td><td>NA</td></tr>\n",
       "\t<tr><th scope=row>r13</th><td>91</td><td>71</td><td>52</td><td>38</td><td>17</td><td>14</td><td>91</td><td>43</td><td>58</td><td>50</td><td>27</td><td>29</td><td>48</td><td>NA</td><td>NA</td></tr>\n",
       "\t<tr><th scope=row>r14</th><td>63</td><td>66</td><td> 4</td><td>68</td><td>89</td><td>53</td><td>67</td><td>30</td><td>73</td><td>16</td><td>69</td><td>87</td><td>40</td><td>31</td><td>NA</td></tr>\n",
       "\t<tr><th scope=row>r15</th><td> 4</td><td>62</td><td>98</td><td>27</td><td>23</td><td> 9</td><td>70</td><td>98</td><td>73</td><td>93</td><td>38</td><td>53</td><td>60</td><td> 4</td><td>23</td></tr>\n",
       "</tbody>\n",
       "</table>\n"
      ],
      "text/latex": [
       "\\begin{tabular}{r|lllllllllllllll}\n",
       "  & c1 & c2 & c3 & c4 & c5 & c6 & c7 & c8 & c9 & c10 & c11 & c12 & c13 & c14 & c15\\\\\n",
       "\\hline\n",
       "\tr1 & 75 & NA & NA & NA & NA & NA & NA & NA & NA & NA & NA & NA & NA & NA & NA\\\\\n",
       "\tr2 & 95 & 64 & NA & NA & NA & NA & NA & NA & NA & NA & NA & NA & NA & NA & NA\\\\\n",
       "\tr3 & 17 & 47 & 82 & NA & NA & NA & NA & NA & NA & NA & NA & NA & NA & NA & NA\\\\\n",
       "\tr4 & 18 & 35 & 87 & 10 & NA & NA & NA & NA & NA & NA & NA & NA & NA & NA & NA\\\\\n",
       "\tr5 & 20 &  4 & 82 & 47 & 65 & NA & NA & NA & NA & NA & NA & NA & NA & NA & NA\\\\\n",
       "\tr6 & 19 &  1 & 23 & 75 &  3 & 34 & NA & NA & NA & NA & NA & NA & NA & NA & NA\\\\\n",
       "\tr7 & 88 &  2 & 77 & 73 &  7 & 63 & 67 & NA & NA & NA & NA & NA & NA & NA & NA\\\\\n",
       "\tr8 & 99 & 65 &  4 & 28 &  6 & 16 & 70 & 92 & NA & NA & NA & NA & NA & NA & NA\\\\\n",
       "\tr9 & 41 & 41 & 26 & 56 & 83 & 40 & 80 & 70 & 33 & NA & NA & NA & NA & NA & NA\\\\\n",
       "\tr10 & 41 & 48 & 72 & 33 & 47 & 32 & 37 & 16 & 94 & 29 & NA & NA & NA & NA & NA\\\\\n",
       "\tr11 & 53 & 71 & 44 & 65 & 25 & 43 & 91 & 52 & 97 & 51 & 14 & NA & NA & NA & NA\\\\\n",
       "\tr12 & 70 & 11 & 33 & 28 & 77 & 73 & 17 & 78 & 39 & 68 & 17 & 57 & NA & NA & NA\\\\\n",
       "\tr13 & 91 & 71 & 52 & 38 & 17 & 14 & 91 & 43 & 58 & 50 & 27 & 29 & 48 & NA & NA\\\\\n",
       "\tr14 & 63 & 66 &  4 & 68 & 89 & 53 & 67 & 30 & 73 & 16 & 69 & 87 & 40 & 31 & NA\\\\\n",
       "\tr15 &  4 & 62 & 98 & 27 & 23 &  9 & 70 & 98 & 73 & 93 & 38 & 53 & 60 &  4 & 23\\\\\n",
       "\\end{tabular}\n"
      ],
      "text/markdown": [
       "\n",
       "| <!--/--> | c1 | c2 | c3 | c4 | c5 | c6 | c7 | c8 | c9 | c10 | c11 | c12 | c13 | c14 | c15 | \n",
       "|---|---|---|---|---|---|---|---|---|---|---|---|---|---|---|\n",
       "| r1 | 75 | NA | NA | NA | NA | NA | NA | NA | NA | NA | NA | NA | NA | NA | NA | \n",
       "| r2 | 95 | 64 | NA | NA | NA | NA | NA | NA | NA | NA | NA | NA | NA | NA | NA | \n",
       "| r3 | 17 | 47 | 82 | NA | NA | NA | NA | NA | NA | NA | NA | NA | NA | NA | NA | \n",
       "| r4 | 18 | 35 | 87 | 10 | NA | NA | NA | NA | NA | NA | NA | NA | NA | NA | NA | \n",
       "| r5 | 20 |  4 | 82 | 47 | 65 | NA | NA | NA | NA | NA | NA | NA | NA | NA | NA | \n",
       "| r6 | 19 |  1 | 23 | 75 |  3 | 34 | NA | NA | NA | NA | NA | NA | NA | NA | NA | \n",
       "| r7 | 88 |  2 | 77 | 73 |  7 | 63 | 67 | NA | NA | NA | NA | NA | NA | NA | NA | \n",
       "| r8 | 99 | 65 |  4 | 28 |  6 | 16 | 70 | 92 | NA | NA | NA | NA | NA | NA | NA | \n",
       "| r9 | 41 | 41 | 26 | 56 | 83 | 40 | 80 | 70 | 33 | NA | NA | NA | NA | NA | NA | \n",
       "| r10 | 41 | 48 | 72 | 33 | 47 | 32 | 37 | 16 | 94 | 29 | NA | NA | NA | NA | NA | \n",
       "| r11 | 53 | 71 | 44 | 65 | 25 | 43 | 91 | 52 | 97 | 51 | 14 | NA | NA | NA | NA | \n",
       "| r12 | 70 | 11 | 33 | 28 | 77 | 73 | 17 | 78 | 39 | 68 | 17 | 57 | NA | NA | NA | \n",
       "| r13 | 91 | 71 | 52 | 38 | 17 | 14 | 91 | 43 | 58 | 50 | 27 | 29 | 48 | NA | NA | \n",
       "| r14 | 63 | 66 |  4 | 68 | 89 | 53 | 67 | 30 | 73 | 16 | 69 | 87 | 40 | 31 | NA | \n",
       "| r15 |  4 | 62 | 98 | 27 | 23 |  9 | 70 | 98 | 73 | 93 | 38 | 53 | 60 |  4 | 23 | \n",
       "\n",
       "\n"
      ],
      "text/plain": [
       "    c1 c2 c3 c4 c5 c6 c7 c8 c9 c10 c11 c12 c13 c14 c15\n",
       "r1  75 NA NA NA NA NA NA NA NA NA  NA  NA  NA  NA  NA \n",
       "r2  95 64 NA NA NA NA NA NA NA NA  NA  NA  NA  NA  NA \n",
       "r3  17 47 82 NA NA NA NA NA NA NA  NA  NA  NA  NA  NA \n",
       "r4  18 35 87 10 NA NA NA NA NA NA  NA  NA  NA  NA  NA \n",
       "r5  20  4 82 47 65 NA NA NA NA NA  NA  NA  NA  NA  NA \n",
       "r6  19  1 23 75  3 34 NA NA NA NA  NA  NA  NA  NA  NA \n",
       "r7  88  2 77 73  7 63 67 NA NA NA  NA  NA  NA  NA  NA \n",
       "r8  99 65  4 28  6 16 70 92 NA NA  NA  NA  NA  NA  NA \n",
       "r9  41 41 26 56 83 40 80 70 33 NA  NA  NA  NA  NA  NA \n",
       "r10 41 48 72 33 47 32 37 16 94 29  NA  NA  NA  NA  NA \n",
       "r11 53 71 44 65 25 43 91 52 97 51  14  NA  NA  NA  NA \n",
       "r12 70 11 33 28 77 73 17 78 39 68  17  57  NA  NA  NA \n",
       "r13 91 71 52 38 17 14 91 43 58 50  27  29  48  NA  NA \n",
       "r14 63 66  4 68 89 53 67 30 73 16  69  87  40  31  NA \n",
       "r15  4 62 98 27 23  9 70 98 73 93  38  53  60   4  23 "
      ]
     },
     "metadata": {},
     "output_type": "display_data"
    }
   ],
   "source": [
    "M = triangle.as.matrix(data, 15)\n",
    "M"
   ]
  },
  {
   "cell_type": "code",
   "execution_count": 454,
   "metadata": {},
   "outputs": [
    {
     "data": {
      "text/html": [
       "<table>\n",
       "<thead><tr><th></th><th scope=col>c1</th><th scope=col>c2</th><th scope=col>c3</th><th scope=col>c4</th><th scope=col>c5</th><th scope=col>c6</th><th scope=col>c7</th><th scope=col>c8</th><th scope=col>c9</th><th scope=col>c10</th><th scope=col>c11</th><th scope=col>c12</th><th scope=col>c13</th><th scope=col>c14</th><th scope=col>c15</th></tr></thead>\n",
       "<tbody>\n",
       "\t<tr><th scope=row>r1</th><td>1074</td><td> NA </td><td> NA </td><td> NA </td><td> NA </td><td> NA </td><td> NA </td><td> NA </td><td> NA </td><td> NA </td><td> NA </td><td> NA </td><td> NA </td><td>NA  </td><td>NA  </td></tr>\n",
       "\t<tr><th scope=row>r2</th><td> 995</td><td>999 </td><td> NA </td><td> NA </td><td> NA </td><td> NA </td><td> NA </td><td> NA </td><td> NA </td><td> NA </td><td> NA </td><td> NA </td><td> NA </td><td>NA  </td><td>NA  </td></tr>\n",
       "\t<tr><th scope=row>r3</th><td> 818</td><td>900 </td><td>935 </td><td> NA </td><td> NA </td><td> NA </td><td> NA </td><td> NA </td><td> NA </td><td> NA </td><td> NA </td><td> NA </td><td> NA </td><td>NA  </td><td>NA  </td></tr>\n",
       "\t<tr><th scope=row>r4</th><td> 704</td><td>801 </td><td>853 </td><td>792 </td><td> NA </td><td> NA </td><td> NA </td><td> NA </td><td> NA </td><td> NA </td><td> NA </td><td> NA </td><td> NA </td><td>NA  </td><td>NA  </td></tr>\n",
       "\t<tr><th scope=row>r5</th><td> 686</td><td>640 </td><td>766 </td><td>731 </td><td>782 </td><td> NA </td><td> NA </td><td> NA </td><td> NA </td><td> NA </td><td> NA </td><td> NA </td><td> NA </td><td>NA  </td><td>NA  </td></tr>\n",
       "\t<tr><th scope=row>r6</th><td> 666</td><td>614 </td><td>636 </td><td>684 </td><td>660 </td><td>717 </td><td> NA </td><td> NA </td><td> NA </td><td> NA </td><td> NA </td><td> NA </td><td> NA </td><td>NA  </td><td>NA  </td></tr>\n",
       "\t<tr><th scope=row>r7</th><td> 647</td><td>501 </td><td>613 </td><td>609 </td><td>533 </td><td>657 </td><td>683 </td><td> NA </td><td> NA </td><td> NA </td><td> NA </td><td> NA </td><td> NA </td><td>NA  </td><td>NA  </td></tr>\n",
       "\t<tr><th scope=row>r8</th><td> 559</td><td>499 </td><td>479 </td><td>536 </td><td>514 </td><td>526 </td><td>594 </td><td>616 </td><td> NA </td><td> NA </td><td> NA </td><td> NA </td><td> NA </td><td>NA  </td><td>NA  </td></tr>\n",
       "\t<tr><th scope=row>r9</th><td> 460</td><td>434 </td><td>419 </td><td>475 </td><td>508 </td><td>470 </td><td>510 </td><td>524 </td><td>487 </td><td> NA </td><td> NA </td><td> NA </td><td> NA </td><td>NA  </td><td>NA  </td></tr>\n",
       "\t<tr><th scope=row>r10</th><td> 419</td><td>365 </td><td>393 </td><td>387 </td><td>419 </td><td>425 </td><td>430 </td><td>376 </td><td>454 </td><td>322 </td><td> NA </td><td> NA </td><td> NA </td><td>NA  </td><td>NA  </td></tr>\n",
       "\t<tr><th scope=row>r11</th><td> 378</td><td>317 </td><td>231 </td><td>321 </td><td>354 </td><td>372 </td><td>393 </td><td>354 </td><td>360 </td><td>293 </td><td>247 </td><td> NA </td><td> NA </td><td>NA  </td><td>NA  </td></tr>\n",
       "\t<tr><th scope=row>r12</th><td> 325</td><td>246 </td><td>187 </td><td>178 </td><td>256 </td><td>329 </td><td>273 </td><td>302 </td><td>263 </td><td>242 </td><td>193 </td><td>233 </td><td> NA </td><td>NA  </td><td>NA  </td></tr>\n",
       "\t<tr><th scope=row>r13</th><td> 255</td><td>235 </td><td>154 </td><td>150 </td><td>140 </td><td>179 </td><td>256 </td><td>209 </td><td>224 </td><td>172 </td><td>174 </td><td>176 </td><td>148 </td><td>NA  </td><td>NA  </td></tr>\n",
       "\t<tr><th scope=row>r14</th><td> 125</td><td>164 </td><td>102 </td><td> 95 </td><td>112 </td><td>123 </td><td>165 </td><td>128 </td><td>166 </td><td>109 </td><td>122 </td><td>147 </td><td>100 </td><td>54  </td><td>NA  </td></tr>\n",
       "\t<tr><th scope=row>r15</th><td>   4</td><td> 62 </td><td> 98 </td><td> 27 </td><td> 23 </td><td>  9 </td><td> 70 </td><td> 98 </td><td> 73 </td><td> 93 </td><td> 38 </td><td> 53 </td><td> 60 </td><td> 4  </td><td>23  </td></tr>\n",
       "</tbody>\n",
       "</table>\n"
      ],
      "text/latex": [
       "\\begin{tabular}{r|lllllllllllllll}\n",
       "  & c1 & c2 & c3 & c4 & c5 & c6 & c7 & c8 & c9 & c10 & c11 & c12 & c13 & c14 & c15\\\\\n",
       "\\hline\n",
       "\tr1 & 1074 &  NA  &  NA  &  NA  &  NA  &  NA  &  NA  &  NA  &  NA  &  NA  &  NA  &  NA  &  NA  & NA   & NA  \\\\\n",
       "\tr2 &  995 & 999  &  NA  &  NA  &  NA  &  NA  &  NA  &  NA  &  NA  &  NA  &  NA  &  NA  &  NA  & NA   & NA  \\\\\n",
       "\tr3 &  818 & 900  & 935  &  NA  &  NA  &  NA  &  NA  &  NA  &  NA  &  NA  &  NA  &  NA  &  NA  & NA   & NA  \\\\\n",
       "\tr4 &  704 & 801  & 853  & 792  &  NA  &  NA  &  NA  &  NA  &  NA  &  NA  &  NA  &  NA  &  NA  & NA   & NA  \\\\\n",
       "\tr5 &  686 & 640  & 766  & 731  & 782  &  NA  &  NA  &  NA  &  NA  &  NA  &  NA  &  NA  &  NA  & NA   & NA  \\\\\n",
       "\tr6 &  666 & 614  & 636  & 684  & 660  & 717  &  NA  &  NA  &  NA  &  NA  &  NA  &  NA  &  NA  & NA   & NA  \\\\\n",
       "\tr7 &  647 & 501  & 613  & 609  & 533  & 657  & 683  &  NA  &  NA  &  NA  &  NA  &  NA  &  NA  & NA   & NA  \\\\\n",
       "\tr8 &  559 & 499  & 479  & 536  & 514  & 526  & 594  & 616  &  NA  &  NA  &  NA  &  NA  &  NA  & NA   & NA  \\\\\n",
       "\tr9 &  460 & 434  & 419  & 475  & 508  & 470  & 510  & 524  & 487  &  NA  &  NA  &  NA  &  NA  & NA   & NA  \\\\\n",
       "\tr10 &  419 & 365  & 393  & 387  & 419  & 425  & 430  & 376  & 454  & 322  &  NA  &  NA  &  NA  & NA   & NA  \\\\\n",
       "\tr11 &  378 & 317  & 231  & 321  & 354  & 372  & 393  & 354  & 360  & 293  & 247  &  NA  &  NA  & NA   & NA  \\\\\n",
       "\tr12 &  325 & 246  & 187  & 178  & 256  & 329  & 273  & 302  & 263  & 242  & 193  & 233  &  NA  & NA   & NA  \\\\\n",
       "\tr13 &  255 & 235  & 154  & 150  & 140  & 179  & 256  & 209  & 224  & 172  & 174  & 176  & 148  & NA   & NA  \\\\\n",
       "\tr14 &  125 & 164  & 102  &  95  & 112  & 123  & 165  & 128  & 166  & 109  & 122  & 147  & 100  & 54   & NA  \\\\\n",
       "\tr15 &    4 &  62  &  98  &  27  &  23  &   9  &  70  &  98  &  73  &  93  &  38  &  53  &  60  &  4   & 23  \\\\\n",
       "\\end{tabular}\n"
      ],
      "text/markdown": [
       "\n",
       "| <!--/--> | c1 | c2 | c3 | c4 | c5 | c6 | c7 | c8 | c9 | c10 | c11 | c12 | c13 | c14 | c15 | \n",
       "|---|---|---|---|---|---|---|---|---|---|---|---|---|---|---|\n",
       "| r1 | 1074 |  NA  |  NA  |  NA  |  NA  |  NA  |  NA  |  NA  |  NA  |  NA  |  NA  |  NA  |  NA  | NA   | NA   | \n",
       "| r2 |  995 | 999  |  NA  |  NA  |  NA  |  NA  |  NA  |  NA  |  NA  |  NA  |  NA  |  NA  |  NA  | NA   | NA   | \n",
       "| r3 |  818 | 900  | 935  |  NA  |  NA  |  NA  |  NA  |  NA  |  NA  |  NA  |  NA  |  NA  |  NA  | NA   | NA   | \n",
       "| r4 |  704 | 801  | 853  | 792  |  NA  |  NA  |  NA  |  NA  |  NA  |  NA  |  NA  |  NA  |  NA  | NA   | NA   | \n",
       "| r5 |  686 | 640  | 766  | 731  | 782  |  NA  |  NA  |  NA  |  NA  |  NA  |  NA  |  NA  |  NA  | NA   | NA   | \n",
       "| r6 |  666 | 614  | 636  | 684  | 660  | 717  |  NA  |  NA  |  NA  |  NA  |  NA  |  NA  |  NA  | NA   | NA   | \n",
       "| r7 |  647 | 501  | 613  | 609  | 533  | 657  | 683  |  NA  |  NA  |  NA  |  NA  |  NA  |  NA  | NA   | NA   | \n",
       "| r8 |  559 | 499  | 479  | 536  | 514  | 526  | 594  | 616  |  NA  |  NA  |  NA  |  NA  |  NA  | NA   | NA   | \n",
       "| r9 |  460 | 434  | 419  | 475  | 508  | 470  | 510  | 524  | 487  |  NA  |  NA  |  NA  |  NA  | NA   | NA   | \n",
       "| r10 |  419 | 365  | 393  | 387  | 419  | 425  | 430  | 376  | 454  | 322  |  NA  |  NA  |  NA  | NA   | NA   | \n",
       "| r11 |  378 | 317  | 231  | 321  | 354  | 372  | 393  | 354  | 360  | 293  | 247  |  NA  |  NA  | NA   | NA   | \n",
       "| r12 |  325 | 246  | 187  | 178  | 256  | 329  | 273  | 302  | 263  | 242  | 193  | 233  |  NA  | NA   | NA   | \n",
       "| r13 |  255 | 235  | 154  | 150  | 140  | 179  | 256  | 209  | 224  | 172  | 174  | 176  | 148  | NA   | NA   | \n",
       "| r14 |  125 | 164  | 102  |  95  | 112  | 123  | 165  | 128  | 166  | 109  | 122  | 147  | 100  | 54   | NA   | \n",
       "| r15 |    4 |  62  |  98  |  27  |  23  |   9  |  70  |  98  |  73  |  93  |  38  |  53  |  60  |  4   | 23   | \n",
       "\n",
       "\n"
      ],
      "text/plain": [
       "    c1   c2  c3  c4  c5  c6  c7  c8  c9  c10 c11 c12 c13 c14 c15\n",
       "r1  1074  NA  NA  NA  NA  NA  NA  NA  NA  NA  NA  NA  NA NA  NA \n",
       "r2   995 999  NA  NA  NA  NA  NA  NA  NA  NA  NA  NA  NA NA  NA \n",
       "r3   818 900 935  NA  NA  NA  NA  NA  NA  NA  NA  NA  NA NA  NA \n",
       "r4   704 801 853 792  NA  NA  NA  NA  NA  NA  NA  NA  NA NA  NA \n",
       "r5   686 640 766 731 782  NA  NA  NA  NA  NA  NA  NA  NA NA  NA \n",
       "r6   666 614 636 684 660 717  NA  NA  NA  NA  NA  NA  NA NA  NA \n",
       "r7   647 501 613 609 533 657 683  NA  NA  NA  NA  NA  NA NA  NA \n",
       "r8   559 499 479 536 514 526 594 616  NA  NA  NA  NA  NA NA  NA \n",
       "r9   460 434 419 475 508 470 510 524 487  NA  NA  NA  NA NA  NA \n",
       "r10  419 365 393 387 419 425 430 376 454 322  NA  NA  NA NA  NA \n",
       "r11  378 317 231 321 354 372 393 354 360 293 247  NA  NA NA  NA \n",
       "r12  325 246 187 178 256 329 273 302 263 242 193 233  NA NA  NA \n",
       "r13  255 235 154 150 140 179 256 209 224 172 174 176 148 NA  NA \n",
       "r14  125 164 102  95 112 123 165 128 166 109 122 147 100 54  NA \n",
       "r15    4  62  98  27  23   9  70  98  73  93  38  53  60  4  23 "
      ]
     },
     "metadata": {},
     "output_type": "display_data"
    }
   ],
   "source": [
    "for(row.current in 14:1) \n",
    "for (i in 1:row.current) \n",
    "    M[row.current, i] = M[row.current, i] + max(M[row.current+1, i], M[row.current+1, i+1])\n",
    "\n",
    "M"
   ]
  },
  {
   "cell_type": "code",
   "execution_count": 455,
   "metadata": {
    "scrolled": false
   },
   "outputs": [
    {
     "data": {
      "image/png": "[encoded data removed]",
      "text/plain": [
       "Plot with title \"Color Key\n",
       "and Histogram\""
      ]
     },
     "metadata": {},
     "output_type": "display_data"
    }
   ],
   "source": [
    "heatmap.2(M, Rowv=NA, Colv=NA, col = heat.colors(256),  margins=c(0,0)\n",
    "          , dendrogram='none')"
   ]
  },
  {
   "cell_type": "markdown",
   "metadata": {},
   "source": [
    "And the answer is:"
   ]
  },
  {
   "cell_type": "code",
   "execution_count": 456,
   "metadata": {
    "scrolled": false
   },
   "outputs": [
    {
     "data": {
      "text/html": [
       "1074"
      ],
      "text/latex": [
       "1074"
      ],
      "text/markdown": [
       "1074"
      ],
      "text/plain": [
       "[1] 1074"
      ]
     },
     "metadata": {},
     "output_type": "display_data"
    }
   ],
   "source": [
    "M[1,1]"
   ]
  },
  {
   "cell_type": "markdown",
   "metadata": {},
   "source": [
    "# Code"
   ]
  },
  {
   "cell_type": "markdown",
   "metadata": {},
   "source": [
    "This is the finished implementation to find the answer."
   ]
  },
  {
   "cell_type": "code",
   "execution_count": 457,
   "metadata": {},
   "outputs": [
    {
     "data": {
      "text/html": [
       "1074"
      ],
      "text/latex": [
       "1074"
      ],
      "text/markdown": [
       "1074"
      ],
      "text/plain": [
       "[1] 1074"
      ]
     },
     "metadata": {},
     "output_type": "display_data"
    }
   ],
   "source": [
    "raw <- '75 95 64 17 47 82 18 35 87 10 20 04 82 47 65 19 01\n",
    " 23 75 03 34 88 02 77 73 07 63 67 99 65 04 28 06 16 70 92\n",
    " 41 41 26 56 83 40 80 70 33 41 48 72 33 47 32 37 16 94 29\n",
    " 53 71 44 65 25 43 91 52 97 51 14 70 11 33 28 77 73 17 78\n",
    " 39 68 17 57 91 71 52 38 17 14 91 43 58 50 27 29 48 63 66\n",
    " 04 68 89 53 67 30 73 16 69 87 40 31 04 62 98 27 23 09 70\n",
    " 98 73 93 38 53 60 04 23'\n",
    "\n",
    "data <- c(lapply(strsplit(raw, ' '), as.numeric)[[1]])\n",
    "\n",
    "in.row <- function(x) {\n",
    "    row <- 0\n",
    "    current <- 0\n",
    "    while(current < x) {\n",
    "        row = row + 1\n",
    "        current = current + row\n",
    "    }\n",
    "    row\n",
    "}\n",
    "\n",
    "triangle.as.matrix <- function(seq, N) {\n",
    "    M = matrix(, ncol=N, nrow=N)\n",
    "    row = 1\n",
    "    column = 1\n",
    "    row.max = 1\n",
    "    for (i in 1:length(seq)) {\n",
    "        if(i > row.max) {\n",
    "            row.max = row.max+row+1\n",
    "            row = in.row(i)\n",
    "            column = 1\n",
    "        }\n",
    "        M[row, column] = seq[i]\n",
    "        column = column+1\n",
    "    }\n",
    "    M\n",
    "}\n",
    "\n",
    "M = triangle.as.matrix(data, 15)\n",
    "\n",
    "for(row in 14:1) \n",
    "for (column in 1:row) \n",
    "    M[row, column] = M[row, column] + max(M[row+1, column], M[row+1, column+1])\n",
    "    \n",
    "M[1,1]"
   ]
  }
 ],
 "metadata": {
  "kernelspec": {
   "display_name": "R",
   "language": "R",
   "name": "ir"
  },
  "language_info": {
   "codemirror_mode": "r",
   "file_extension": ".r",
   "mimetype": "text/x-r-source",
   "name": "R",
   "pygments_lexer": "r",
   "version": "3.5.0"
  }
 },
 "nbformat": 4,
 "nbformat_minor": 2
}
