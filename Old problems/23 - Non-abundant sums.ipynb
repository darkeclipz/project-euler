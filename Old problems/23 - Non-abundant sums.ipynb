{
 "cells": [
  {
   "cell_type": "markdown",
   "metadata": {},
   "source": [
    "# Problem"
   ]
  },
  {
   "cell_type": "markdown",
   "metadata": {},
   "source": [
    "A perfect number is a number for which the sum of its proper divisors is exactly equal to the number. For example, the sum of the proper divisors of 28 would be 1 + 2 + 4 + 7 + 14 = 28, which means that 28 is a perfect number.\n",
    "\n",
    "A number n is called deficient if the sum of its proper divisors is less than n and it is called abundant if this sum exceeds n.\n",
    "\n",
    "As 12 is the smallest abundant number, 1 + 2 + 3 + 4 + 6 = 16, the smallest number that can be written as the sum of two abundant numbers is 24. By mathematical analysis, it can be shown that all integers greater than 28123 can be written as the sum of two abundant numbers. However, this upper limit cannot be reduced any further by analysis even though it is known that the greatest number that cannot be expressed as the sum of two abundant numbers is less than this limit.\n",
    "\n",
    "Find the sum of all the positive integers which cannot be written as the sum of two abundant numbers."
   ]
  },
  {
   "cell_type": "code",
   "execution_count": 1,
   "metadata": {},
   "outputs": [],
   "source": [
    "limit = 28123"
   ]
  },
  {
   "cell_type": "markdown",
   "metadata": {},
   "source": [
    "# Divisors"
   ]
  },
  {
   "cell_type": "markdown",
   "metadata": {},
   "source": [
    "We need a function `divisors(number)` that returns all the divisors for that number in a list."
   ]
  },
  {
   "cell_type": "code",
   "execution_count": 107,
   "metadata": {},
   "outputs": [],
   "source": [
    "divisors <- function(x) {\n",
    "    if(x==1) return (1)\n",
    "    result = vector('list')\n",
    "    for(i in 1:x) {\n",
    "        if(x%%i==0) {\n",
    "            result = c(result, i)\n",
    "        }\n",
    "    }\n",
    "    result\n",
    "}"
   ]
  },
  {
   "cell_type": "markdown",
   "metadata": {},
   "source": [
    "We can verify that it works:"
   ]
  },
  {
   "cell_type": "code",
   "execution_count": 108,
   "metadata": {
    "scrolled": true
   },
   "outputs": [
    {
     "data": {
      "text/html": [
       "<ol>\n",
       "\t<li>1</li>\n",
       "\t<li>2</li>\n",
       "\t<li>3</li>\n",
       "\t<li>4</li>\n",
       "\t<li>6</li>\n",
       "\t<li>12</li>\n",
       "</ol>\n"
      ],
      "text/latex": [
       "\\begin{enumerate}\n",
       "\\item 1\n",
       "\\item 2\n",
       "\\item 3\n",
       "\\item 4\n",
       "\\item 6\n",
       "\\item 12\n",
       "\\end{enumerate}\n"
      ],
      "text/markdown": [
       "1. 1\n",
       "2. 2\n",
       "3. 3\n",
       "4. 4\n",
       "5. 6\n",
       "6. 12\n",
       "\n",
       "\n"
      ],
      "text/plain": [
       "[[1]]\n",
       "[1] 1\n",
       "\n",
       "[[2]]\n",
       "[1] 2\n",
       "\n",
       "[[3]]\n",
       "[1] 3\n",
       "\n",
       "[[4]]\n",
       "[1] 4\n",
       "\n",
       "[[5]]\n",
       "[1] 6\n",
       "\n",
       "[[6]]\n",
       "[1] 12\n"
      ]
     },
     "metadata": {},
     "output_type": "display_data"
    }
   ],
   "source": [
    "divisors(12)"
   ]
  },
  {
   "cell_type": "markdown",
   "metadata": {},
   "source": [
    "We should implement a highly optimized algorithm to do this. With the current algorithm it is not possible to solve this problem in sufficient time. We also need the algorithm for later problems."
   ]
  },
  {
   "cell_type": "markdown",
   "metadata": {},
   "source": [
    "# Proper divisors"
   ]
  },
  {
   "cell_type": "markdown",
   "metadata": {},
   "source": [
    "The proper divisors are the divisors excluding the number itself."
   ]
  },
  {
   "cell_type": "code",
   "execution_count": 109,
   "metadata": {},
   "outputs": [],
   "source": [
    "proper.divisors <- function(x) {\n",
    "    result = divisors(x)\n",
    "    return (result[1:length(result)-1])\n",
    "}"
   ]
  },
  {
   "cell_type": "markdown",
   "metadata": {},
   "source": [
    "The last divisor is removed from the list."
   ]
  },
  {
   "cell_type": "code",
   "execution_count": 110,
   "metadata": {},
   "outputs": [
    {
     "data": {
      "text/html": [
       "<ol>\n",
       "\t<li>1</li>\n",
       "\t<li>2</li>\n",
       "\t<li>3</li>\n",
       "\t<li>4</li>\n",
       "\t<li>6</li>\n",
       "</ol>\n"
      ],
      "text/latex": [
       "\\begin{enumerate}\n",
       "\\item 1\n",
       "\\item 2\n",
       "\\item 3\n",
       "\\item 4\n",
       "\\item 6\n",
       "\\end{enumerate}\n"
      ],
      "text/markdown": [
       "1. 1\n",
       "2. 2\n",
       "3. 3\n",
       "4. 4\n",
       "5. 6\n",
       "\n",
       "\n"
      ],
      "text/plain": [
       "[[1]]\n",
       "[1] 1\n",
       "\n",
       "[[2]]\n",
       "[1] 2\n",
       "\n",
       "[[3]]\n",
       "[1] 3\n",
       "\n",
       "[[4]]\n",
       "[1] 4\n",
       "\n",
       "[[5]]\n",
       "[1] 6\n"
      ]
     },
     "metadata": {},
     "output_type": "display_data"
    }
   ],
   "source": [
    "proper.divisors(12)"
   ]
  },
  {
   "cell_type": "markdown",
   "metadata": {},
   "source": [
    "# Perfect number"
   ]
  },
  {
   "cell_type": "markdown",
   "metadata": {},
   "source": [
    "A perfect number is where the sum of the proper divisors is equal to the number itself."
   ]
  },
  {
   "cell_type": "code",
   "execution_count": 111,
   "metadata": {},
   "outputs": [],
   "source": [
    "is.perfect.number <- function(x) {\n",
    "    (Reduce('+', proper.divisors(x))==x)\n",
    "}"
   ]
  },
  {
   "cell_type": "markdown",
   "metadata": {},
   "source": [
    "If we test it with a non perfect number."
   ]
  },
  {
   "cell_type": "code",
   "execution_count": 112,
   "metadata": {},
   "outputs": [
    {
     "data": {
      "text/html": [
       "FALSE"
      ],
      "text/latex": [
       "FALSE"
      ],
      "text/markdown": [
       "FALSE"
      ],
      "text/plain": [
       "[1] FALSE"
      ]
     },
     "metadata": {},
     "output_type": "display_data"
    }
   ],
   "source": [
    "is.perfect.number(12)"
   ]
  },
  {
   "cell_type": "markdown",
   "metadata": {},
   "source": [
    "And with a perfect number."
   ]
  },
  {
   "cell_type": "code",
   "execution_count": 113,
   "metadata": {},
   "outputs": [
    {
     "data": {
      "text/html": [
       "TRUE"
      ],
      "text/latex": [
       "TRUE"
      ],
      "text/markdown": [
       "TRUE"
      ],
      "text/plain": [
       "[1] TRUE"
      ]
     },
     "metadata": {},
     "output_type": "display_data"
    }
   ],
   "source": [
    "is.perfect.number(28)"
   ]
  },
  {
   "cell_type": "markdown",
   "metadata": {},
   "source": [
    "# Abundant number"
   ]
  },
  {
   "cell_type": "markdown",
   "metadata": {},
   "source": [
    "An abundant number is where the sum of the proper divisors is larger than the number itself."
   ]
  },
  {
   "cell_type": "code",
   "execution_count": 114,
   "metadata": {},
   "outputs": [],
   "source": [
    "is.abundant.number <- function(x) {\n",
    "    (Reduce('+', proper.divisors(x))>x)\n",
    "}"
   ]
  },
  {
   "cell_type": "markdown",
   "metadata": {},
   "source": [
    "In the example $12$ should be an abundant number."
   ]
  },
  {
   "cell_type": "code",
   "execution_count": 115,
   "metadata": {},
   "outputs": [
    {
     "data": {
      "text/html": [
       "TRUE"
      ],
      "text/latex": [
       "TRUE"
      ],
      "text/markdown": [
       "TRUE"
      ],
      "text/plain": [
       "[1] TRUE"
      ]
     },
     "metadata": {},
     "output_type": "display_data"
    }
   ],
   "source": [
    "is.abundant.number(12)"
   ]
  },
  {
   "cell_type": "markdown",
   "metadata": {},
   "source": [
    "## Finding all abundant numbers"
   ]
  },
  {
   "cell_type": "markdown",
   "metadata": {},
   "source": [
    "We want to find all the abundant numbers between $[2, 28123]$."
   ]
  },
  {
   "cell_type": "code",
   "execution_count": 88,
   "metadata": {},
   "outputs": [
    {
     "name": "stdout",
     "output_type": "stream",
     "text": [
      "[1] \"There are 1749 abundant numbers between 2 and 28123\"\n"
     ]
    },
    {
     "data": {
      "text/html": [
       "<ol class=list-inline>\n",
       "\t<li>12</li>\n",
       "\t<li>18</li>\n",
       "\t<li>20</li>\n",
       "\t<li>24</li>\n",
       "\t<li>30</li>\n",
       "\t<li>36</li>\n",
       "\t<li>40</li>\n",
       "\t<li>42</li>\n",
       "\t<li>48</li>\n",
       "\t<li>54</li>\n",
       "\t<li>56</li>\n",
       "\t<li>60</li>\n",
       "\t<li>66</li>\n",
       "\t<li>70</li>\n",
       "\t<li>72</li>\n",
       "\t<li>78</li>\n",
       "\t<li>80</li>\n",
       "\t<li>84</li>\n",
       "\t<li>88</li>\n",
       "\t<li>90</li>\n",
       "\t<li>96</li>\n",
       "\t<li>100</li>\n",
       "\t<li>102</li>\n",
       "\t<li>104</li>\n",
       "\t<li>108</li>\n",
       "\t<li>112</li>\n",
       "\t<li>114</li>\n",
       "\t<li>120</li>\n",
       "\t<li>126</li>\n",
       "\t<li>132</li>\n",
       "\t<li>138</li>\n",
       "\t<li>140</li>\n",
       "\t<li>144</li>\n",
       "\t<li>150</li>\n",
       "\t<li>156</li>\n",
       "\t<li>160</li>\n",
       "\t<li>162</li>\n",
       "\t<li>168</li>\n",
       "\t<li>174</li>\n",
       "\t<li>176</li>\n",
       "\t<li>180</li>\n",
       "\t<li>186</li>\n",
       "\t<li>192</li>\n",
       "\t<li>196</li>\n",
       "\t<li>198</li>\n",
       "\t<li>200</li>\n",
       "\t<li>204</li>\n",
       "\t<li>208</li>\n",
       "\t<li>210</li>\n",
       "\t<li>216</li>\n",
       "\t<li>220</li>\n",
       "\t<li>222</li>\n",
       "\t<li>224</li>\n",
       "\t<li>228</li>\n",
       "\t<li>234</li>\n",
       "\t<li>240</li>\n",
       "\t<li>246</li>\n",
       "\t<li>252</li>\n",
       "\t<li>258</li>\n",
       "\t<li>260</li>\n",
       "\t<li>264</li>\n",
       "\t<li>270</li>\n",
       "\t<li>272</li>\n",
       "\t<li>276</li>\n",
       "\t<li>280</li>\n",
       "\t<li>282</li>\n",
       "\t<li>288</li>\n",
       "\t<li>294</li>\n",
       "\t<li>300</li>\n",
       "\t<li>304</li>\n",
       "\t<li>306</li>\n",
       "\t<li>308</li>\n",
       "\t<li>312</li>\n",
       "\t<li>318</li>\n",
       "\t<li>320</li>\n",
       "\t<li>324</li>\n",
       "\t<li>330</li>\n",
       "\t<li>336</li>\n",
       "\t<li>340</li>\n",
       "\t<li>342</li>\n",
       "\t<li>348</li>\n",
       "\t<li>350</li>\n",
       "\t<li>352</li>\n",
       "\t<li>354</li>\n",
       "\t<li>360</li>\n",
       "\t<li>364</li>\n",
       "\t<li>366</li>\n",
       "\t<li>368</li>\n",
       "\t<li>372</li>\n",
       "\t<li>378</li>\n",
       "\t<li>380</li>\n",
       "\t<li>384</li>\n",
       "\t<li>390</li>\n",
       "\t<li>392</li>\n",
       "\t<li>396</li>\n",
       "\t<li>400</li>\n",
       "\t<li>402</li>\n",
       "\t<li>408</li>\n",
       "\t<li>414</li>\n",
       "\t<li>416</li>\n",
       "</ol>\n"
      ],
      "text/latex": [
       "\\begin{enumerate*}\n",
       "\\item 12\n",
       "\\item 18\n",
       "\\item 20\n",
       "\\item 24\n",
       "\\item 30\n",
       "\\item 36\n",
       "\\item 40\n",
       "\\item 42\n",
       "\\item 48\n",
       "\\item 54\n",
       "\\item 56\n",
       "\\item 60\n",
       "\\item 66\n",
       "\\item 70\n",
       "\\item 72\n",
       "\\item 78\n",
       "\\item 80\n",
       "\\item 84\n",
       "\\item 88\n",
       "\\item 90\n",
       "\\item 96\n",
       "\\item 100\n",
       "\\item 102\n",
       "\\item 104\n",
       "\\item 108\n",
       "\\item 112\n",
       "\\item 114\n",
       "\\item 120\n",
       "\\item 126\n",
       "\\item 132\n",
       "\\item 138\n",
       "\\item 140\n",
       "\\item 144\n",
       "\\item 150\n",
       "\\item 156\n",
       "\\item 160\n",
       "\\item 162\n",
       "\\item 168\n",
       "\\item 174\n",
       "\\item 176\n",
       "\\item 180\n",
       "\\item 186\n",
       "\\item 192\n",
       "\\item 196\n",
       "\\item 198\n",
       "\\item 200\n",
       "\\item 204\n",
       "\\item 208\n",
       "\\item 210\n",
       "\\item 216\n",
       "\\item 220\n",
       "\\item 222\n",
       "\\item 224\n",
       "\\item 228\n",
       "\\item 234\n",
       "\\item 240\n",
       "\\item 246\n",
       "\\item 252\n",
       "\\item 258\n",
       "\\item 260\n",
       "\\item 264\n",
       "\\item 270\n",
       "\\item 272\n",
       "\\item 276\n",
       "\\item 280\n",
       "\\item 282\n",
       "\\item 288\n",
       "\\item 294\n",
       "\\item 300\n",
       "\\item 304\n",
       "\\item 306\n",
       "\\item 308\n",
       "\\item 312\n",
       "\\item 318\n",
       "\\item 320\n",
       "\\item 324\n",
       "\\item 330\n",
       "\\item 336\n",
       "\\item 340\n",
       "\\item 342\n",
       "\\item 348\n",
       "\\item 350\n",
       "\\item 352\n",
       "\\item 354\n",
       "\\item 360\n",
       "\\item 364\n",
       "\\item 366\n",
       "\\item 368\n",
       "\\item 372\n",
       "\\item 378\n",
       "\\item 380\n",
       "\\item 384\n",
       "\\item 390\n",
       "\\item 392\n",
       "\\item 396\n",
       "\\item 400\n",
       "\\item 402\n",
       "\\item 408\n",
       "\\item 414\n",
       "\\item 416\n",
       "\\end{enumerate*}\n"
      ],
      "text/markdown": [
       "1. 12\n",
       "2. 18\n",
       "3. 20\n",
       "4. 24\n",
       "5. 30\n",
       "6. 36\n",
       "7. 40\n",
       "8. 42\n",
       "9. 48\n",
       "10. 54\n",
       "11. 56\n",
       "12. 60\n",
       "13. 66\n",
       "14. 70\n",
       "15. 72\n",
       "16. 78\n",
       "17. 80\n",
       "18. 84\n",
       "19. 88\n",
       "20. 90\n",
       "21. 96\n",
       "22. 100\n",
       "23. 102\n",
       "24. 104\n",
       "25. 108\n",
       "26. 112\n",
       "27. 114\n",
       "28. 120\n",
       "29. 126\n",
       "30. 132\n",
       "31. 138\n",
       "32. 140\n",
       "33. 144\n",
       "34. 150\n",
       "35. 156\n",
       "36. 160\n",
       "37. 162\n",
       "38. 168\n",
       "39. 174\n",
       "40. 176\n",
       "41. 180\n",
       "42. 186\n",
       "43. 192\n",
       "44. 196\n",
       "45. 198\n",
       "46. 200\n",
       "47. 204\n",
       "48. 208\n",
       "49. 210\n",
       "50. 216\n",
       "51. 220\n",
       "52. 222\n",
       "53. 224\n",
       "54. 228\n",
       "55. 234\n",
       "56. 240\n",
       "57. 246\n",
       "58. 252\n",
       "59. 258\n",
       "60. 260\n",
       "61. 264\n",
       "62. 270\n",
       "63. 272\n",
       "64. 276\n",
       "65. 280\n",
       "66. 282\n",
       "67. 288\n",
       "68. 294\n",
       "69. 300\n",
       "70. 304\n",
       "71. 306\n",
       "72. 308\n",
       "73. 312\n",
       "74. 318\n",
       "75. 320\n",
       "76. 324\n",
       "77. 330\n",
       "78. 336\n",
       "79. 340\n",
       "80. 342\n",
       "81. 348\n",
       "82. 350\n",
       "83. 352\n",
       "84. 354\n",
       "85. 360\n",
       "86. 364\n",
       "87. 366\n",
       "88. 368\n",
       "89. 372\n",
       "90. 378\n",
       "91. 380\n",
       "92. 384\n",
       "93. 390\n",
       "94. 392\n",
       "95. 396\n",
       "96. 400\n",
       "97. 402\n",
       "98. 408\n",
       "99. 414\n",
       "100. 416\n",
       "\n",
       "\n"
      ],
      "text/plain": [
       "  [1]  12  18  20  24  30  36  40  42  48  54  56  60  66  70  72  78  80  84\n",
       " [19]  88  90  96 100 102 104 108 112 114 120 126 132 138 140 144 150 156 160\n",
       " [37] 162 168 174 176 180 186 192 196 198 200 204 208 210 216 220 222 224 228\n",
       " [55] 234 240 246 252 258 260 264 270 272 276 280 282 288 294 300 304 306 308\n",
       " [73] 312 318 320 324 330 336 340 342 348 350 352 354 360 364 366 368 372 378\n",
       " [91] 380 384 390 392 396 400 402 408 414 416"
      ]
     },
     "metadata": {},
     "output_type": "display_data"
    }
   ],
   "source": [
    "numbers = 2:(limit/4)\n",
    "abundant = lapply(numbers, is.abundant.number)\n",
    "abundant_numbers = numbers[abundant==TRUE]\n",
    "print(paste('There are', length(abundant_numbers), 'abundant numbers between 2 and', limit))\n",
    "abundant_numbers[1:100]"
   ]
  },
  {
   "cell_type": "code",
   "execution_count": 92,
   "metadata": {},
   "outputs": [
    {
     "name": "stdout",
     "output_type": "stream",
     "text": [
      "[1] \"(# of abundant numbers)^2: 3059001\"\n"
     ]
    }
   ],
   "source": [
    "print(paste('(# of abundant numbers)^2:', length(abundant_numbers)^2))"
   ]
  },
  {
   "cell_type": "markdown",
   "metadata": {},
   "source": [
    "# Sum of two abundant numbers"
   ]
  },
  {
   "cell_type": "code",
   "execution_count": 78,
   "metadata": {},
   "outputs": [],
   "source": [
    "is.sum.of.two.abundant.numbers <- function(x) {\n",
    "    \n",
    "}"
   ]
  },
  {
   "cell_type": "markdown",
   "metadata": {},
   "source": [
    "# Finding the solution"
   ]
  },
  {
   "cell_type": "code",
   "execution_count": 4,
   "metadata": {},
   "outputs": [],
   "source": [
    "for (i in 1:limit) {\n",
    "    \n",
    "}"
   ]
  }
 ],
 "metadata": {
  "kernelspec": {
   "display_name": "R",
   "language": "R",
   "name": "ir"
  },
  "language_info": {
   "codemirror_mode": "r",
   "file_extension": ".r",
   "mimetype": "text/x-r-source",
   "name": "R",
   "pygments_lexer": "r",
   "version": "3.4.4"
  }
 },
 "nbformat": 4,
 "nbformat_minor": 2
}
