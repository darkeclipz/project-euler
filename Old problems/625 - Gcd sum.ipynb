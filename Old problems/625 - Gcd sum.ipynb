{
 "cells": [
  {
   "cell_type": "code",
   "execution_count": 2,
   "metadata": {},
   "outputs": [
    {
     "name": "stdout",
     "output_type": "stream",
     "text": [
      "Populating the interactive namespace from numpy and matplotlib\n"
     ]
    }
   ],
   "source": [
    "%pylab inline"
   ]
  },
  {
   "cell_type": "markdown",
   "metadata": {},
   "source": [
    "$G(N)=\\sum_{j=1}^N\\sum_{i=1}^j \\text{gcd}(i,j)$"
   ]
  },
  {
   "cell_type": "markdown",
   "metadata": {},
   "source": [
    "Given $G(10)=122$."
   ]
  },
  {
   "cell_type": "markdown",
   "metadata": {},
   "source": [
    "Find $G(10^{11})$. Give your answer modulo $998244353$."
   ]
  },
  {
   "cell_type": "code",
   "execution_count": 1,
   "metadata": {},
   "outputs": [],
   "source": [
    "import math\n",
    "\n",
    "def gcd(a,b):\n",
    "    a = abs(a)\n",
    "    b = abs(b)\n",
    "    if a == b: return a\n",
    "    if b > a:\n",
    "        swap = a\n",
    "        a = b\n",
    "        b = swap\n",
    "    q = a // b\n",
    "    r = a - b * q\n",
    "    while r != 0:\n",
    "        a = b\n",
    "        b = r\n",
    "        q = a // b\n",
    "        r = a - b * q\n",
    "    return b"
   ]
  },
  {
   "cell_type": "code",
   "execution_count": 26,
   "metadata": {},
   "outputs": [],
   "source": [
    "def G(n):\n",
    "    S=0\n",
    "    for j in range(1, n+1):\n",
    "        print('j={}'.format(j), end=':\\t')\n",
    "        for i in range(1, j+1):\n",
    "            g = gcd(i,j)\n",
    "            S+=g\n",
    "            print(g, end='   ')\n",
    "        print('')\n",
    "    print('\\r\\nTotal sum is {}.'.format(S))"
   ]
  },
  {
   "cell_type": "code",
   "execution_count": 27,
   "metadata": {
    "scrolled": false
   },
   "outputs": [
    {
     "name": "stdout",
     "output_type": "stream",
     "text": [
      "j=1:\t1   \n",
      "j=2:\t1   2   \n",
      "j=3:\t1   1   3   \n",
      "j=4:\t1   2   1   4   \n",
      "j=5:\t1   1   1   1   5   \n",
      "j=6:\t1   2   3   2   1   6   \n",
      "j=7:\t1   1   1   1   1   1   7   \n",
      "j=8:\t1   2   1   4   1   2   1   8   \n",
      "j=9:\t1   1   3   1   1   3   1   1   9   \n",
      "j=10:\t1   2   1   2   5   2   1   2   1   10   \n",
      "j=11:\t1   1   1   1   1   1   1   1   1   1   11   \n",
      "j=12:\t1   2   3   4   1   6   1   4   3   2   1   12   \n",
      "j=13:\t1   1   1   1   1   1   1   1   1   1   1   1   13   \n",
      "j=14:\t1   2   1   2   1   2   7   2   1   2   1   2   1   14   \n",
      "j=15:\t1   1   3   1   5   3   1   1   3   5   1   3   1   1   15   \n",
      "j=16:\t1   2   1   4   1   2   1   8   1   2   1   4   1   2   1   16   \n",
      "j=17:\t1   1   1   1   1   1   1   1   1   1   1   1   1   1   1   1   17   \n",
      "j=18:\t1   2   3   2   1   6   1   2   9   2   1   6   1   2   3   2   1   18   \n",
      "j=19:\t1   1   1   1   1   1   1   1   1   1   1   1   1   1   1   1   1   1   19   \n",
      "j=20:\t1   2   1   4   5   2   1   4   1   10   1   4   1   2   5   4   1   2   1   20   \n",
      "\r\n",
      "Total sum is 545.\n"
     ]
    }
   ],
   "source": [
    "G(20)"
   ]
  },
  {
   "cell_type": "code",
   "execution_count": null,
   "metadata": {},
   "outputs": [],
   "source": []
  }
 ],
 "metadata": {
  "kernelspec": {
   "display_name": "Python 3",
   "language": "python",
   "name": "python3"
  },
  "language_info": {
   "codemirror_mode": {
    "name": "ipython",
    "version": 3
   },
   "file_extension": ".py",
   "mimetype": "text/x-python",
   "name": "python",
   "nbconvert_exporter": "python",
   "pygments_lexer": "ipython3",
   "version": "3.7.4"
  }
 },
 "nbformat": 4,
 "nbformat_minor": 2
}
