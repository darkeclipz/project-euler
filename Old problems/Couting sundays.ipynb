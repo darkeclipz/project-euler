{
 "cells": [
  {
   "cell_type": "markdown",
   "metadata": {},
   "source": [
    "# Counting sundays"
   ]
  },
  {
   "cell_type": "markdown",
   "metadata": {},
   "source": [
    "## Problem"
   ]
  },
  {
   "cell_type": "markdown",
   "metadata": {},
   "source": [
    "You are given the following information, but you may prefer to do some research for yourself.\n",
    "\n",
    "* 1 Jan 1900 was a Monday.\n",
    "* Thirty days has September, April, June and November. All the rest have thirty-one, Saving February alone, Which has twenty-eight, rain or shine. And on leap years, twenty-nine.\n",
    "* A leap year occurs on any year evenly divisible by 4, but not on a century unless it is divisible by 400.\n",
    "\n",
    "**How many Sundays fell on the first of the month during the twentieth century (1 Jan 1901 to 31 Dec 2000)?**"
   ]
  },
  {
   "cell_type": "markdown",
   "metadata": {},
   "source": [
    "## Algorithm"
   ]
  },
  {
   "cell_type": "markdown",
   "metadata": {},
   "source": [
    "The algorithm follows these steps:\n",
    "\n",
    "1. For each $y$ in years $[1901, 2000]$\n",
    "2. For each $m$ in months $[1, 12]$\n",
    "3. For each $d$ in `days.in.month(m, is.leap.year(y))`\n",
    "4. Increment counter `sundays` if it is a sunday.\n",
    "5. Increment day counter; $D_{n+1}\\equiv D + 1 \\pmod{7}$"
   ]
  },
  {
   "cell_type": "code",
   "execution_count": 135,
   "metadata": {},
   "outputs": [
    {
     "name": "stdout",
     "output_type": "stream",
     "text": [
      "[1] \"There are 171 sundays\"\n"
     ]
    }
   ],
   "source": [
    "days.in.month <- function(month, is.leap.year) {\n",
    "    if(month %in% c(4, 6, 9, 11)) return (30)\n",
    "    if(month == 2) return (28 + ifelse(is.leap.year,1,0))\n",
    "    return (31)\n",
    "}\n",
    "\n",
    "is.leap.year <- function(year) {\n",
    "    (year %% 4 == 0 && year %% 100 != 0 && year %% 400 == 0)\n",
    "}\n",
    "\n",
    "current.day = 0\n",
    "sundays = 0\n",
    "\n",
    "for (y in 1900:2000) {\n",
    "    for (m in 1:12) {\n",
    "        for (d in 1:days.in.month(m, is.leap.year(y))) {\n",
    "            sundays = sundays + ifelse(y>1900 && d==1 && current.day==6, 1, 0)\n",
    "            current.day = (current.day + 1) %% 7\n",
    "        }\n",
    "    }\n",
    "}\n",
    "\n",
    "print(paste('There are', sundays, 'sundays'))"
   ]
  },
  {
   "cell_type": "code",
   "execution_count": 5,
   "metadata": {},
   "outputs": [
    {
     "data": {
      "text/html": [
       "171"
      ],
      "text/latex": [
       "171"
      ],
      "text/markdown": [
       "171"
      ],
      "text/plain": [
       "[1] 171"
      ]
     },
     "metadata": {},
     "output_type": "display_data"
    }
   ],
   "source": [
    "floor(12*100/7)"
   ]
  }
 ],
 "metadata": {
  "kernelspec": {
   "display_name": "R",
   "language": "R",
   "name": "ir"
  },
  "language_info": {
   "codemirror_mode": "r",
   "file_extension": ".r",
   "mimetype": "text/x-r-source",
   "name": "R",
   "pygments_lexer": "r",
   "version": "3.4.4"
  }
 },
 "nbformat": 4,
 "nbformat_minor": 2
}
