{
 "cells": [
  {
   "cell_type": "markdown",
   "metadata": {},
   "source": [
    "# Problem\n",
    "\n",
    "Starting with the number 1 and moving to the right in a clockwise direction a 5 by 5 spiral is formed as follows:\n",
    "\n",
    "    21 22 23 24 25\n",
    "    20  7  8  9 10\n",
    "    19  6  1  2 11\n",
    "    18  5  4  3 12\n",
    "    17 16 15 14 13\n",
    "\n",
    "It can be verified that the sum of the numbers on the diagonals is 101.\n",
    "\n",
    "What is the sum of the numbers on the diagonals in a 1001 by 1001 spiral formed in the same way?"
   ]
  },
  {
   "cell_type": "markdown",
   "metadata": {},
   "source": [
    "# Solution\n",
    "\n",
    "I took the sum of all the integers in the diagonals. The top right diagonal, has squares of odd numbers, starting at 1. We can generate them with $(2k+1)^2$. Then for each other diagonal, we start with this one, and subtract the amount of steps to reach that square ($2k,4k,6k$ respectively), resulting in the following sum:"
   ]
  },
  {
   "cell_type": "markdown",
   "metadata": {},
   "source": [
    "$$\\sum\\limits_{i=0}^{N-1}(2i+1)^2 + \\sum\\limits_{i=1}^{N-1}\\left((2i+1)^2 -2i\\right) + \\sum\\limits_{i=1}^{N-1}\\left((2i+1)^2 -4i\\right) + \\sum\\limits_{i=1}^{N-1}\\left((2i+1)^2 -6i\\right)$$"
   ]
  },
  {
   "cell_type": "markdown",
   "metadata": {},
   "source": [
    "which can be simplified to:"
   ]
  },
  {
   "cell_type": "markdown",
   "metadata": {},
   "source": [
    "$$4\\cdot\\sum\\limits_{i=1}^{N-1}(2i+1)^2 - 6(N-1)N + 1$$"
   ]
  },
  {
   "cell_type": "markdown",
   "metadata": {},
   "source": [
    "If the square is $5×5$ it takes 3 steps to reach an edge, so $N=3$, which gives $101$. In the case where the square is $1001×1001$, it takes $501$ steps, resulting in  $669171001$."
   ]
  },
  {
   "cell_type": "code",
   "execution_count": 2,
   "metadata": {},
   "outputs": [
    {
     "data": {
      "text/plain": [
       "101"
      ]
     },
     "execution_count": 2,
     "metadata": {},
     "output_type": "execute_result"
    }
   ],
   "source": [
    "N=3\n",
    "4*sum([(2*i+1)**2 for i in range(1,N)]) - 6*(N-1)*N + 1"
   ]
  },
  {
   "cell_type": "code",
   "execution_count": 3,
   "metadata": {},
   "outputs": [
    {
     "data": {
      "text/plain": [
       "669171001"
      ]
     },
     "execution_count": 3,
     "metadata": {},
     "output_type": "execute_result"
    }
   ],
   "source": [
    "N=501\n",
    "4*sum([(2*i+1)**2 for i in range(1,N)]) - 6*(N-1)*N + 1"
   ]
  }
 ],
 "metadata": {
  "kernelspec": {
   "display_name": "Python 3",
   "language": "python",
   "name": "python3"
  },
  "language_info": {
   "codemirror_mode": {
    "name": "ipython",
    "version": 3
   },
   "file_extension": ".py",
   "mimetype": "text/x-python",
   "name": "python",
   "nbconvert_exporter": "python",
   "pygments_lexer": "ipython3",
   "version": "3.6.3"
  }
 },
 "nbformat": 4,
 "nbformat_minor": 2
}
