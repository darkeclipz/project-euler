{
 "cells": [
  {
   "cell_type": "markdown",
   "metadata": {},
   "source": [
    "# Problem"
   ]
  },
  {
   "cell_type": "markdown",
   "metadata": {},
   "source": [
    "Each character on a computer is assigned a unique code and the preferred standard is ASCII (American Standard Code for Information Interchange). For example, uppercase A = 65, asterisk (*) = 42, and lowercase k = 107.\n",
    "\n",
    "A modern encryption method is to take a text file, convert the bytes to ASCII, then XOR each byte with a given value, taken from a secret key. The advantage with the XOR function is that using the same encryption key on the cipher text, restores the plain text; for example, 65 XOR 42 = 107, then 107 XOR 42 = 65.\n",
    "\n",
    "For unbreakable encryption, the key is the same length as the plain text message, and the key is made up of random bytes. The user would keep the encrypted message and the encryption key in different locations, and without both \"halves\", it is impossible to decrypt the message.\n",
    "\n",
    "Unfortunately, this method is impractical for most users, so the modified method is to use a password as a key. If the password is shorter than the message, which is likely, the key is repeated cyclically throughout the message. The balance for this method is using a sufficiently long password key for security, but short enough to be memorable.\n",
    "\n",
    "Your task has been made easy, as the encryption key consists of three lower case characters. Using cipher.txt (right click and 'Save Link/Target As...'), a file containing the encrypted ASCII codes, and the knowledge that the plain text must contain common English words, decrypt the message and find the sum of the ASCII values in the original text.\n"
   ]
  },
  {
   "cell_type": "code",
   "execution_count": 1,
   "metadata": {},
   "outputs": [],
   "source": [
    "cipher = [79,59,12,2,79,35,8,28,20,2,3,68,8,9,68,45,0,12,9,67,68,4,7,5,23,27,1,21,79,85,78,79,85,71,38,10,71,27,12,2,79,6,2,8,13,9,1,13,9,8,68,19,7,1,71,56,11,21,11,68,6,3,22,2,14,0,30,79,1,31,6,23,19,10,0,73,79,44,2,79,19,6,28,68,16,6,16,15,79,35,8,11,72,71,14,10,3,79,12,2,79,19,6,28,68,32,0,0,73,79,86,71,39,1,71,24,5,20,79,13,9,79,16,15,10,68,5,10,3,14,1,10,14,1,3,71,24,13,19,7,68,32,0,0,73,79,87,71,39,1,71,12,22,2,14,16,2,11,68,2,25,1,21,22,16,15,6,10,0,79,16,15,10,22,2,79,13,20,65,68,41,0,16,15,6,10,0,79,1,31,6,23,19,28,68,19,7,5,19,79,12,2,79,0,14,11,10,64,27,68,10,14,15,2,65,68,83,79,40,14,9,1,71,6,16,20,10,8,1,79,19,6,28,68,14,1,68,15,6,9,75,79,5,9,11,68,19,7,13,20,79,8,14,9,1,71,8,13,17,10,23,71,3,13,0,7,16,71,27,11,71,10,18,2,29,29,8,1,1,73,79,81,71,59,12,2,79,8,14,8,12,19,79,23,15,6,10,2,28,68,19,7,22,8,26,3,15,79,16,15,10,68,3,14,22,12,1,1,20,28,72,71,14,10,3,79,16,15,10,68,3,14,22,12,1,1,20,28,68,4,14,10,71,1,1,17,10,22,71,10,28,19,6,10,0,26,13,20,7,68,14,27,74,71,89,68,32,0,0,71,28,1,9,27,68,45,0,12,9,79,16,15,10,68,37,14,20,19,6,23,19,79,83,71,27,11,71,27,1,11,3,68,2,25,1,21,22,11,9,10,68,6,13,11,18,27,68,19,7,1,71,3,13,0,7,16,71,28,11,71,27,12,6,27,68,2,25,1,21,22,11,9,10,68,10,6,3,15,27,68,5,10,8,14,10,18,2,79,6,2,12,5,18,28,1,71,0,2,71,7,13,20,79,16,2,28,16,14,2,11,9,22,74,71,87,68,45,0,12,9,79,12,14,2,23,2,3,2,71,24,5,20,79,10,8,27,68,19,7,1,71,3,13,0,7,16,92,79,12,2,79,19,6,28,68,8,1,8,30,79,5,71,24,13,19,1,1,20,28,68,19,0,68,19,7,1,71,3,13,0,7,16,73,79,93,71,59,12,2,79,11,9,10,68,16,7,11,71,6,23,71,27,12,2,79,16,21,26,1,71,3,13,0,7,16,75,79,19,15,0,68,0,6,18,2,28,68,11,6,3,15,27,68,19,0,68,2,25,1,21,22,11,9,10,72,71,24,5,20,79,3,8,6,10,0,79,16,8,79,7,8,2,1,71,6,10,19,0,68,19,7,1,71,24,11,21,3,0,73,79,85,87,79,38,18,27,68,6,3,16,15,0,17,0,7,68,19,7,1,71,24,11,21,3,0,71,24,5,20,79,9,6,11,1,71,27,12,21,0,17,0,7,68,15,6,9,75,79,16,15,10,68,16,0,22,11,11,68,3,6,0,9,72,16,71,29,1,4,0,3,9,6,30,2,79,12,14,2,68,16,7,1,9,79,12,2,79,7,6,2,1,73,79,85,86,79,33,17,10,10,71,6,10,71,7,13,20,79,11,16,1,68,11,14,10,3,79,5,9,11,68,6,2,11,9,8,68,15,6,23,71,0,19,9,79,20,2,0,20,11,10,72,71,7,1,71,24,5,20,79,10,8,27,68,6,12,7,2,31,16,2,11,74,71,94,86,71,45,17,19,79,16,8,79,5,11,3,68,16,7,11,71,13,1,11,6,1,17,10,0,71,7,13,10,79,5,9,11,68,6,12,7,2,31,16,2,11,68,15,6,9,75,79,12,2,79,3,6,25,1,71,27,12,2,79,22,14,8,12,19,79,16,8,79,6,2,12,11,10,10,68,4,7,13,11,11,22,2,1,68,8,9,68,32,0,0,73,79,85,84,79,48,15,10,29,71,14,22,2,79,22,2,13,11,21,1,69,71,59,12,14,28,68,14,28,68,9,0,16,71,14,68,23,7,29,20,6,7,6,3,68,5,6,22,19,7,68,21,10,23,18,3,16,14,1,3,71,9,22,8,2,68,15,26,9,6,1,68,23,14,23,20,6,11,9,79,11,21,79,20,11,14,10,75,79,16,15,6,23,71,29,1,5,6,22,19,7,68,4,0,9,2,28,68,1,29,11,10,79,35,8,11,74,86,91,68,52,0,68,19,7,1,71,56,11,21,11,68,5,10,7,6,2,1,71,7,17,10,14,10,71,14,10,3,79,8,14,25,1,3,79,12,2,29,1,71,0,10,71,10,5,21,27,12,71,14,9,8,1,3,71,26,23,73,79,44,2,79,19,6,28,68,1,26,8,11,79,11,1,79,17,9,9,5,14,3,13,9,8,68,11,0,18,2,79,5,9,11,68,1,14,13,19,7,2,18,3,10,2,28,23,73,79,37,9,11,68,16,10,68,15,14,18,2,79,23,2,10,10,71,7,13,20,79,3,11,0,22,30,67,68,19,7,1,71,8,8,8,29,29,71,0,2,71,27,12,2,79,11,9,3,29,71,60,11,9,79,11,1,79,16,15,10,68,33,14,16,15,10,22,73]"
   ]
  },
  {
   "cell_type": "code",
   "execution_count": 2,
   "metadata": {
    "scrolled": false
   },
   "outputs": [
    {
     "data": {
      "text/plain": [
       "1201"
      ]
     },
     "execution_count": 2,
     "metadata": {},
     "output_type": "execute_result"
    }
   ],
   "source": [
    "len(cipher)"
   ]
  },
  {
   "cell_type": "code",
   "execution_count": 8,
   "metadata": {},
   "outputs": [],
   "source": [
    "C1 = cipher[0::3]\n",
    "C2 = cipher[1::3]\n",
    "C3 = cipher[2::3]"
   ]
  },
  {
   "cell_type": "code",
   "execution_count": 10,
   "metadata": {},
   "outputs": [],
   "source": [
    "def xor(C, value): return [c^value for c in C]"
   ]
  },
  {
   "cell_type": "code",
   "execution_count": 11,
   "metadata": {
    "scrolled": true
   },
   "outputs": [
    {
     "data": {
      "text/plain": [
       "[45,\n",
       " 96,\n",
       " 106,\n",
       " 96,\n",
       " 106,\n",
       " 79,\n",
       " 107,\n",
       " 102,\n",
       " 117,\n",
       " 119,\n",
       " 44,\n",
       " 37,\n",
       " 37,\n",
       " 96,\n",
       " 96,\n",
       " 107,\n",
       " 107,\n",
       " 113,\n",
       " 37,\n",
       " 119,\n",
       " 100,\n",
       " 96,\n",
       " 124,\n",
       " 125,\n",
       " 113,\n",
       " 43,\n",
       " 96,\n",
       " 100,\n",
       " 114,\n",
       " 109,\n",
       " 106,\n",
       " 37,\n",
       " 97,\n",
       " 96,\n",
       " 100,\n",
       " 66,\n",
       " 43,\n",
       " 37,\n",
       " 37,\n",
       " 118,\n",
       " 107,\n",
       " 109,\n",
       " 103,\n",
       " 108,\n",
       " 108,\n",
       " 37,\n",
       " 113,\n",
       " 66,\n",
       " 43,\n",
       " 37,\n",
       " 37,\n",
       " 96,\n",
       " 96,\n",
       " 96,\n",
       " 119,\n",
       " 109,\n",
       " 98,\n",
       " 109,\n",
       " 96,\n",
       " 118,\n",
       " 75,\n",
       " 109,\n",
       " 98,\n",
       " 125,\n",
       " 113,\n",
       " 113,\n",
       " 113,\n",
       " 96,\n",
       " 108,\n",
       " 34,\n",
       " 104,\n",
       " 96,\n",
       " 49,\n",
       " 108,\n",
       " 37,\n",
       " 118,\n",
       " 99,\n",
       " 100,\n",
       " 108,\n",
       " 109,\n",
       " 41,\n",
       " 107,\n",
       " 113,\n",
       " 118,\n",
       " 108,\n",
       " 37,\n",
       " 115,\n",
       " 37,\n",
       " 98,\n",
       " 37,\n",
       " 37,\n",
       " 96,\n",
       " 106,\n",
       " 43,\n",
       " 37,\n",
       " 96,\n",
       " 108,\n",
       " 113,\n",
       " 109,\n",
       " 96,\n",
       " 113,\n",
       " 106,\n",
       " 109,\n",
       " 109,\n",
       " 97,\n",
       " 110,\n",
       " 118,\n",
       " 37,\n",
       " 97,\n",
       " 109,\n",
       " 97,\n",
       " 110,\n",
       " 118,\n",
       " 102,\n",
       " 37,\n",
       " 115,\n",
       " 37,\n",
       " 113,\n",
       " 98,\n",
       " 118,\n",
       " 108,\n",
       " 37,\n",
       " 66,\n",
       " 37,\n",
       " 107,\n",
       " 79,\n",
       " 107,\n",
       " 109,\n",
       " 71,\n",
       " 113,\n",
       " 113,\n",
       " 37,\n",
       " 37,\n",
       " 105,\n",
       " 96,\n",
       " 119,\n",
       " 107,\n",
       " 100,\n",
       " 112,\n",
       " 113,\n",
       " 37,\n",
       " 98,\n",
       " 37,\n",
       " 37,\n",
       " 100,\n",
       " 96,\n",
       " 119,\n",
       " 107,\n",
       " 104,\n",
       " 109,\n",
       " 103,\n",
       " 108,\n",
       " 96,\n",
       " 96,\n",
       " 112,\n",
       " 37,\n",
       " 37,\n",
       " 118,\n",
       " 96,\n",
       " 108,\n",
       " 107,\n",
       " 37,\n",
       " 79,\n",
       " 107,\n",
       " 108,\n",
       " 96,\n",
       " 37,\n",
       " 118,\n",
       " 106,\n",
       " 113,\n",
       " 37,\n",
       " 98,\n",
       " 62,\n",
       " 96,\n",
       " 100,\n",
       " 106,\n",
       " 124,\n",
       " 37,\n",
       " 113,\n",
       " 118,\n",
       " 113,\n",
       " 113,\n",
       " 37,\n",
       " 98,\n",
       " 43,\n",
       " 37,\n",
       " 96,\n",
       " 107,\n",
       " 114,\n",
       " 37,\n",
       " 37,\n",
       " 96,\n",
       " 119,\n",
       " 37,\n",
       " 98,\n",
       " 41,\n",
       " 109,\n",
       " 98,\n",
       " 96,\n",
       " 105,\n",
       " 109,\n",
       " 113,\n",
       " 96,\n",
       " 119,\n",
       " 107,\n",
       " 37,\n",
       " 118,\n",
       " 106,\n",
       " 98,\n",
       " 106,\n",
       " 106,\n",
       " 37,\n",
       " 113,\n",
       " 113,\n",
       " 37,\n",
       " 119,\n",
       " 43,\n",
       " 53,\n",
       " 112,\n",
       " 100,\n",
       " 109,\n",
       " 98,\n",
       " 113,\n",
       " 37,\n",
       " 119,\n",
       " 37,\n",
       " 118,\n",
       " 100,\n",
       " 37,\n",
       " 119,\n",
       " 98,\n",
       " 109,\n",
       " 41,\n",
       " 109,\n",
       " 114,\n",
       " 105,\n",
       " 97,\n",
       " 107,\n",
       " 37,\n",
       " 102,\n",
       " 107,\n",
       " 96,\n",
       " 108,\n",
       " 114,\n",
       " 107,\n",
       " 96,\n",
       " 100,\n",
       " 43,\n",
       " 52,\n",
       " 115,\n",
       " 37,\n",
       " 37,\n",
       " 118,\n",
       " 114,\n",
       " 105,\n",
       " 97,\n",
       " 107,\n",
       " 100,\n",
       " 107,\n",
       " 109,\n",
       " 37,\n",
       " 107,\n",
       " 96,\n",
       " 105,\n",
       " 37,\n",
       " 37,\n",
       " 118,\n",
       " 106,\n",
       " 100,\n",
       " 96,\n",
       " 96,\n",
       " 37,\n",
       " 37,\n",
       " 113,\n",
       " 106,\n",
       " 105,\n",
       " 114,\n",
       " 37,\n",
       " 105,\n",
       " 115,\n",
       " 37,\n",
       " 104,\n",
       " 107,\n",
       " 100,\n",
       " 96,\n",
       " 96,\n",
       " 109,\n",
       " 41,\n",
       " 96,\n",
       " 100,\n",
       " 37,\n",
       " 96,\n",
       " 108,\n",
       " 113,\n",
       " 106,\n",
       " 96,\n",
       " 104,\n",
       " 102,\n",
       " 105,\n",
       " 96,\n",
       " 106,\n",
       " 66,\n",
       " 43,\n",
       " 54,\n",
       " 109,\n",
       " 37,\n",
       " 96,\n",
       " 96,\n",
       " 119,\n",
       " 37,\n",
       " 108,\n",
       " 108,\n",
       " 107,\n",
       " 37,\n",
       " 117,\n",
       " 118,\n",
       " 100,\n",
       " 103,\n",
       " 113,\n",
       " 119,\n",
       " 112,\n",
       " 108,\n",
       " 37,\n",
       " 106,\n",
       " 109,\n",
       " 100,\n",
       " 117,\n",
       " 118,\n",
       " 107,\n",
       " 119,\n",
       " 105,\n",
       " 41,\n",
       " 109,\n",
       " 37,\n",
       " 103,\n",
       " 113,\n",
       " 102,\n",
       " 96,\n",
       " 99,\n",
       " 104,\n",
       " 106,\n",
       " 52,\n",
       " 86,\n",
       " 113,\n",
       " 37,\n",
       " 119,\n",
       " 103,\n",
       " 100,\n",
       " 37,\n",
       " 104,\n",
       " 37,\n",
       " 97,\n",
       " 108,\n",
       " 97,\n",
       " 96,\n",
       " 37,\n",
       " 37,\n",
       " 119,\n",
       " 37,\n",
       " 106,\n",
       " 37,\n",
       " 43,\n",
       " 96,\n",
       " 100,\n",
       " 99,\n",
       " 105,\n",
       " 99,\n",
       " 107,\n",
       " 108,\n",
       " 107,\n",
       " 105,\n",
       " 96,\n",
       " 107,\n",
       " 99,\n",
       " 113,\n",
       " 112,\n",
       " 96,\n",
       " 43,\n",
       " 107,\n",
       " 114,\n",
       " 109,\n",
       " 96,\n",
       " 96,\n",
       " 37,\n",
       " 118,\n",
       " 105,\n",
       " 124,\n",
       " 113,\n",
       " 37,\n",
       " 106,\n",
       " 37,\n",
       " 37,\n",
       " 96,\n",
       " 107,\n",
       " 37,\n",
       " 107,\n",
       " 99,\n",
       " 109,\n",
       " 67,\n",
       " 109,\n",
       " 43]"
      ]
     },
     "execution_count": 11,
     "metadata": {},
     "output_type": "execute_result"
    }
   ],
   "source": [
    "xor(C1, 98)"
   ]
  },
  {
   "cell_type": "code",
   "execution_count": 14,
   "metadata": {},
   "outputs": [],
   "source": [
    "def as_string(C): return ''.join([chr(c) for c in C])"
   ]
  },
  {
   "cell_type": "code",
   "execution_count": 15,
   "metadata": {
    "scrolled": false
   },
   "outputs": [
    {
     "data": {
      "text/plain": [
       "'-`j`jOkfuw,%%``kkq%wd`|}q+`drmj%a`dB+%%vkmgll%qB+%%```wmbm`vKmb}qqq`l\"h`1l%vcdlm)kqvl%s%b%%`j+%`lqm`qjmmanv%amanvf%s%qbvl%B%kOkmGqq%%i`wkdpq%b%%d`wkhmgl``p%%v`lk%Okl`%vjq%b>`dj|%qvqq%b+%`kr%%`w%b)mb`imq`wk%vjbjj%qq%w+5pdmbq%w%vd%wbm)mriak%fk`lrk`d+4s%%vriakdkm%k`i%%vjd``%%qjir%is%hkd``m)`d%`lqj`hfi`jB+6m%``w%llk%uvdgqwpl%jmduvkwi)m%gqf`chj4Vq%wgd%h%ala`%%w%j%+`dcicklki`kcqp`+krm``%vi|q%j%%`k%kcmCm+'"
      ]
     },
     "execution_count": 15,
     "metadata": {},
     "output_type": "execute_result"
    }
   ],
   "source": [
    "as_string(xor(C1,98))"
   ]
  },
  {
   "cell_type": "code",
   "execution_count": 23,
   "metadata": {},
   "outputs": [],
   "source": [
    "import numpy\n",
    "import pandas as pd"
   ]
  },
  {
   "cell_type": "code",
   "execution_count": 25,
   "metadata": {},
   "outputs": [
    {
     "name": "stdout",
     "output_type": "stream",
     "text": [
      "98 with stdev: 29.490039251156183\n",
      "99 with stdev: 29.83408430995105\n",
      "100 with stdev: 30.36389827768203\n",
      "101 with stdev: 30.71074597306131\n",
      "102 with stdev: 30.840277308428877\n",
      "103 with stdev: 31.186914171247835\n",
      "104 with stdev: 28.504358301387295\n",
      "105 with stdev: 28.879758439253862\n",
      "106 with stdev: 28.877210465101108\n",
      "107 with stdev: 29.2532494099551\n",
      "108 with stdev: 29.734523322682197\n",
      "109 with stdev: 30.112698684248983\n",
      "110 with stdev: 30.142546646333294\n",
      "111 with stdev: 30.520864578303204\n",
      "112 with stdev: 26.681399471438738\n",
      "113 with stdev: 27.064622948361375\n",
      "114 with stdev: 27.009487978172217\n",
      "115 with stdev: 27.393913372955915\n",
      "116 with stdev: 28.15231773892551\n",
      "117 with stdev: 28.53489917874862\n",
      "118 with stdev: 28.516745189262526\n",
      "119 with stdev: 28.899992123126292\n",
      "120 with stdev: 24.835125133598382\n",
      "121 with stdev: 25.275073159156758\n",
      "122 with stdev: 25.09329908054944\n",
      "123 with stdev: 25.535012296935466\n"
     ]
    }
   ],
   "source": [
    "df = pd.DataFrame()\n",
    "\n",
    "for i in range(26):\n",
    "    print('{} with stdev: {}'.format( i + 98, numpy.std(xor(C1,98+i))))"
   ]
  },
  {
   "cell_type": "code",
   "execution_count": 26,
   "metadata": {},
   "outputs": [
    {
     "name": "stdout",
     "output_type": "stream",
     "text": [
      "Populating the interactive namespace from numpy and matplotlib\n"
     ]
    }
   ],
   "source": [
    "%pylab inline"
   ]
  },
  {
   "cell_type": "code",
   "execution_count": 54,
   "metadata": {},
   "outputs": [],
   "source": [
    "def distribution(C):\n",
    "    D = [0] * 255\n",
    "    for c in C:\n",
    "        D[c]+=1\n",
    "    plt.figure(figsize=(20,6))\n",
    "    plt.hist([d for d in D if d > 0], bins=255)\n",
    "    plt.grid()"
   ]
  },
  {
   "cell_type": "code",
   "execution_count": 58,
   "metadata": {
    "scrolled": true
   },
   "outputs": [
    {
     "data": {
      "image/png": "[encoded data removed]",
      "text/plain": [
       "<matplotlib.figure.Figure at 0x1a3d6c20908>"
      ]
     },
     "metadata": {},
     "output_type": "display_data"
    }
   ],
   "source": [
    "distribution(xor(C1, 122))"
   ]
  },
  {
   "cell_type": "code",
   "execution_count": 62,
   "metadata": {},
   "outputs": [
    {
     "data": {
      "text/plain": [
       "\"?rxrx]ytge>77rryyc7evrnoc9rv`\\x7fx7srvP977dy\\x7fu~~7cP977rrre\\x7fp\\x7frdY\\x7fpocccr~0zr#~7dqv~\\x7f;ycd~7a7p77rx97r~c\\x7frcx\\x7f\\x7fs|d7s\\x7fs|dt7a7cpd~7P7y]y\\x7fUcc77{reyvbc7p77vreyz\\x7fu~rrb77dr~y7]y~r7dxc7p,rvxn7cdcc7p97ry`77re7p;\\x7fpr{\\x7fcrey7dxpxx7cc7e9'bv\\x7fpc7e7dv7ep\\x7f;\\x7f`{sy7tyr~`yrv9&a77d`{syvy\\x7f7yr{77dxvrr77cx{`7{a7zyvrr\\x7f;rv7r~cxrzt{rxP9$\\x7f7rre7~~y7gdvuceb~7x\\x7fvgdye{;\\x7f7uctrqzx&Dc7euv7z7s~sr77e7x79rvq{qy~y{ryqcbr9y`\\x7frr7d{nc7x77ry7yq\\x7fQ\\x7f9\""
      ]
     },
     "execution_count": 62,
     "metadata": {},
     "output_type": "execute_result"
    }
   ],
   "source": [
    "as_string( xor(C1, 112) )"
   ]
  },
  {
   "cell_type": "code",
   "execution_count": 66,
   "metadata": {
    "scrolled": true
   },
   "outputs": [
    {
     "name": "stdout",
     "output_type": "stream",
     "text": [
      "Index: 98, String: nAv&&n&gc77hndoo&ci&tbcubNq&rA*hnq&b4cgor&ahao&b5ctr&crhrto&rhcu&gnbh&m&Jcrjq&&kg&ojcouoripc3njnuh&tar&tc*hr&tc&hct~ho&(&bc&nr&vu1ic&ci&i&corin&ci&a&jpdgc`orri(&nnu`gh&cornq&jgoc&&cor?ni&iunrcorq&p&a&&ci*gahrech&cib7D&rs&cibgkcns&kr&t&brca|n&cnec7Chhoi&hg&i&uqvv*cgh&er(4srg&iccbog&er&knacntnrdi&ot&&b7Rtti'n&&r&e&t&urat&k&uiivhruct&k&iA(&&ci&ecshhjcnchgnkauNq&jisgo&pg&o`huG&&puhoat&cj`niiir&rt\r\n",
      "\n",
      "Index: 99, String: o@w''o'fb66ioenn'bh'ucbtcOp's@+iop'c5bfns'`i`n'c4bus'bsisun'sibt'foci'l'Kbskp''jf'nkbntnshq~b2okoti'u`s'ub+is'ub'ibuin')'cb'os'wt0hb'bh'h'bnsho'bh'`'kqefbanssh)'ootafi'bnsop'kfnb''bns>oh'htosbnsp'q'`''bh+f`isdbi'bhc6E'sr'bhcfjbor'js'u'csb`}o'bodb6Biinh'if'h'tpww+bfi'ds)5rsf'hbbcnf'ds'jo`bouoseh'nu''c6S~uuh&o''s'~d'u'ts`u'j'thhwistbu'j'h@)''bh'dbriikbobifoj`tOp'khrfn'qf'naitF''qtin`u'bk~aoh~hhs'su\r\n",
      "\n",
      "Index: 100, String: hGp  h ae11nhbii eo rdesdHw tG,nhw d2eait gngi d3ert etntri tnes ahdn k Letlw  ma ileisitovye5hlhsn rgt re,nt re nerxni . de ht ps7oe eo o eitoh eo g lvbaefitto. hhsfan eithw laie  eit9ho oshteitw v g  eo,agntcen eod1B tu eodamehu mt r dtegzh ehce1Ennio na o swpp,ean ct.2uta oeedia ct mhgehrhtbo ir  d1Tyrro!h  t yc r stgr m soopntser m oG.  eo ceunnlehenahmgsHw louai va ifnsA  vsnigr elyfhoyoot tr\r\n",
      "\n",
      "Index: 101, String: iFq!!i!`d00oichh!dn!sedreIv!uF-oiv!e3d`hu!fofh!e2dsu!duoush!uodr!`ieo!j!Mdumv!!l`!hmdhrhunwxd4imiro!sfu!sd-ou!sd!odsyoh!/!ed!iu!qr6nd!dn!n!dhuni!dn!f!mwc`dghuun/!iirg`o!dhuiv!m`hd!!dhu8in!nriudhuv!w!f!!dn-`foubdo!dne0C!ut!dne`ldit!lu!s!eudf{i!dibd0Doohn!o`!n!rvqq-d`o!bu/3tu`!nddeh`!bu!lifdisiucn!hs!!e0Uxssn i!!u!xb!s!rufs!l!rnnqourds!l!nF/!!dn!bdtoomdido`ilfrIv!mnt`h!w`!hgor@!!wrohfs!dmxginxnnu!us\r\n",
      "\n",
      "Index: 102, String: jEr\"\"j\"cg33lj`kk\"gm\"pfgqfJu\"vE.lju\"f0gckv\"elek\"f1gpv\"gvlvpk\"vlgq\"cjfl\"i\"Ngvnu\"\"oc\"kngkqkvmt{g7jnjql\"pev\"pg.lv\"pg\"lgpzlk\",\"fg\"jv\"rq5mg\"gm\"m\"gkvmj\"gm\"e\"nt`cgdkvvm,\"jjqdcl\"gkvju\"nckg\"\"gkv;jm\"mqjvgkvu\"t\"e\"\"gm.celvagl\"gmf3@\"vw\"gmfcogjw\"ov\"p\"fvgexj\"gjag3Gllkm\"lc\"m\"qurr.gcl\"av,0wvc\"mggfkc\"av\"ojegjpjv`m\"kp\"\"f3V{ppm#j\"\"v\"{a\"p\"qvep\"o\"qmmrlvqgp\"o\"mE,\"\"gm\"agwllngjglcjoeqJu\"nmwck\"tc\"kdlqC\"\"tqlkep\"gn{djm{mmv\"vp\r\n",
      "\n",
      "Index: 103, String: kDs##k#bf22mkajj#fl#qgfpgKt#wD/mkt#g1fbjw#dmdj#g0fqw#fwmwqj#wmfp#bkgm#h#Ofwot##nb#jofjpjwluzf6kokpm#qdw#qf/mw#qf#mfq{mj#-#gf#kw#sp4lf#fl#l#fjwlk#fl#d#ouabfejwwl-#kkpebm#fjwkt#objf##fjw:kl#lpkwfjwt#u#d##fl/bdmw`fm#flg2A#wv#flgbnfkv#nw#q#gwfdyk#fk`f2Fmmjl#mb#l#ptss/fbm#`w-1vwb#lffgjb#`w#nkdfkqkwal#jq##g2Wzqql\"k##w#z`#q#pwdq#n#pllsmwpfq#n#lD-##fl#`fvmmofkfmbkndpKt#olvbj#ub#jempB##upmjdq#fozeklzllw#wq\r\n",
      "\n",
      "Index: 104, String: dK|,,d,mi==bdnee,ic,~hihD{,xK bd{,h>imex,kbke,h?i~x,ixbx~e,xbi,mdhb,g,@ix`{,,am,e`ieexczui9d`db,~kx,~i bx,~i,bi~tbe,\",hi,dx,|;ci,ic,c,iexcd,ic,k,`znmijexxc\",ddjmb,iexd{,`mei,,iex5dc,cdxiex{,z,k,,ic mkbxoib,ich=N,xy,ichmaidy,ax,~,hxikvd,idoi=Ibbec,bm,c,{|| imb,ox\">yxm,ciihem,ox,adkid~dxnc,e~,,h=Xu~~c-d,,x,uo,~,xk~,a,cc|bxi~,a,cK\",,ic,oiybb`idibmdakD{,`cyme,zm,ejbM,,zbek~,i`ujdcuccx,x~\r\n",
      "\n",
      "Index: 105, String: eJ}--e-lh<<ceodd-hb-ih~iEz-yJ!cez-i?hldy-jcjd-i>hy-hycyd-ych~-leic-f-Ahyaz--`l-dahd~dyb{th8eae~c-jy-h!cy-h-chucd-#-ih-ey-}~:bh-hb-b-hdybe-hb-j-a{olhkdyyb#-ee~klc-hdyez-aldh--hdy4eb-b~eyhdyz-{-j--hb!ljcynhc-hbi<O-yx-hbil`hex-`y--iyhjwe-henh<Hccdb-cl-b-~z}}!hlc-ny#?xyl-bhhidl-ny-`ejheeyob-d--i<Ytb,e--y-tn--~yj-`-~bb}cy~h-`-bJ#--hb-nhxccahehcle`j~Ez-abxld-{l-dkc~L--{~cdj-hatkebtbby-y\r\n",
      "\n",
      "Index: 106, String: fI~..f.ok??`flgg.ka.|jk}jFy.zI\"`fy.j<kogz.i`ig.j=k|z.kz`z|g.z`k}.ofj`.e.Bkzby..co.gbkg}gzaxwk;fbf}`.|iz.|k\"`z.|k.`k|v`g. .jk.fz.~}9ak.ka.a.kgzaf.ka.i.bxlokhgzza .ff}ho`.kgzfy.bogk..kgz7fa.a}fzkgzy.x.i..ka\"oi`zmk`.kaj?L.z{.kajockf{.cz.|.jzkitf.kfmk?K``ga.`o.a.}y~~\"ko`.mz <{zo.akkjgo.mz.cfikf|fzla.g|..j?Zw||a/f..z.wm.|.}zi|.c.}aa~`z}k|.c.aI ..ka.mk{``bkfk`ofci}Fy.ba{og.xo.gh`}O..x}`gi|.kbwhfawaaz.z|\r\n",
      "\n",
      "Index: 107, String: gH//g/nj>>agmff/j`/}kj|kGx/{H#agx/k=jnf{/hahf/k<j}{/j{a{}f/{aj|/ngka/d/Cj{cx//bn/fcjf|f{`yvj:gcg|a/}h{/}j#a{/}j/aj}waf/!/kj/g{/|8`j/j`/`/jf{`g/j`/h/cymnjif{{`!/gg|ina/jf{gx/cnfj//jf{6g`/`|g{jf{x/y/h//j`#nha{lja/j`k>M/{z/j`knbjgz/b{/}/k{jhug/jglj>Jaaf`/an/`/|x#jna/l{!=z{n/`jjkfn/l{/bghjg}g{m`/f}//k>[v}}`.g//{/vl/}/|{h}/b/|``a{|j}/b/`H!//j`/ljzaacjgjangbh|Gx/c`znf/yn/fia|N//y|afh}/jcvig`v``{/{}\r\n",
      "\n",
      "Index: 108, String: `Ox((`(im99f`jaa(mg(zlm{l@(|O$f`(l:mia|(ofoa(l;mz|(m|f|za(|fm{(i`lf(c(Dm|d((ei(adma{a|g~qm=`d`{f(zo|(zm$f|(zm(fmzpfa(&(lm(`|(x{?gm(mg(g(ma|g`(mg(o(d~jimna||g&(``{nif(ma|`(diam((ma|1`g(g{`|ma|(~(o((mg$iof|kmf(mgl9J(|}(mgliem`}(e|(z(l|mor`(m`km9Mffag(fi(g({xx$mif(k|&:}|i(gmmlai(k|(e`om`z`|jg(az((l9\\qzzg)`((|(qk(z({|oz(e({ggxf|{mz(e(gO&((mg(km}ffdm`mfi`eo{@(dg}ia(~i(anf{I((~{faoz(mdqn`gqgg|(|z\r\n",
      "\n",
      "Index: 109, String: aNy))a)hl88gak``)lf){mlzmA~)}N%ga~)m;lh`})ngn`)m:l{})l}g}{`)}glz)hamg)b)El}e~))dh)`el`z`}fpl<aeazg){n}){l%g}){l)gl{qg`)')ml)a})yz>fl)lf)f)l`}fa)lf)n)ekhlo`}}f')aazohg)l`}a~)eh`l))l`}0af)fza}l`}~))n))lf%hng}jlg)lfm8K)}|)lfmhdla|)d}){)m}lnsa)lajl8Lgg`f)gh)f)z~yy%lhg)j}';|}h)fllm`h)j})danla{a}kf)`{))m8]p{{f(a))})pj){)z}n{)d)zffyg}zl{)d)fN'))lf)jl|ggelalghadnzA~)ef|h`)h)`ogzH))zg`n{)lepoafpff})}{\r\n",
      "\n",
      "Index: 110, String: bMz**b*ko;;dbhcc*oe*xnoynB}*~M&db}*n8okc~*mdmc*n9ox~*o~d~xc*~doy*kbnd*a*Fo~f}**gk*cfocyc~e|so?bfbyd*xm~*xo&d~*xo*doxrdc*$*no*b~*zy=eo*oe*e*oc~eb*oe*m*f|hkolc~~e$*bbylkd*oc~b}*fkco**oc~3be*eyb~oc~}*|*m**oe&kmd~iod*oen;H*~*oenkgob*g~*x*n~ompb*obio;Oddce*dk*e*y}zz&okd*i~$8~k*eoonck*i~*gbmobxb~he*cx**n;^sxxe+b**~*si*x*y~mx*g*yeezd~yox*g*eM$**oe*ioddfobodkbgmyB}*fekc*|k*cldyK**|ydcmx*ofslbesee~*~x\r\n",
      "\n",
      "Index: 111, String: cL{++c+jn::ecibb+nd+yonxoC|+L'ec|+o9njb+lelb+o8ny+neyb+enx+jcoe+`+Gng|++fj+bgnbxbd}rn>cgcxe+yl+yn'e+yn+enyseb+%+on+c+{x<dn+nd+d+nbdc+nd+l+g}ijnmbd%+ccxmje+nbc|+gjbn++nb2cd+dxcnb|+}+l++nd'jlehne+ndo:I+~+ndojfnc~+f+y+onlqc+nchn:Neebd+ej+d+x|{{'nje+h%9~j+dnnobj+h+fclncycid+by++o:_ryyd*c+++rh+y+xly+f+xdd{exny+f+dL%++nd+hn~eegncnejcflxC|+gd~jb+}j+bmexJ++}xebly+ngrmcdrdd+y\r\n",
      "\n",
      "Index: 112, String: |Sd44|4uq%%z|v}}4q{4fpqgp\\c4`S8z|c4p&qu}`4szs}4p'qf`4q`z`f}4`zqg4u|pz44Xq`xc44yu4}xq}g}`{bmq!|x|gz4fs`4fq8z`4fq4zqflz}4:4pq4|`4dg#{q4q{4{4q}`{|4q{4s4xbvuqr}``{:4||gruz4q}`|c4xu}q44q}`-|{4{g|`q}`c4b4s44q{8usz`wqz4q{p%V4`a4q{puyq|a4y`4f4p`qsn|4q|wq%Qzz}{4zu4{4gcdd8quz4w`:&a`u4{qqp}u4w`4y|sq|f|`v{4}f44p%@mff{5|44`4mw4f4g`sf4y4g{{dz`gqf4y4{S:44q{4wqazzxq|qzu|ysg\\c4x{au}4bu4}rzgU44bgz}sf4qxmr|{m{{`4`f\r\n",
      "\n",
      "Index: 113, String: }Re55}5tp$${}w||5pz5gqpfq]b5aR9{}b5q'pt|a5r{r|5q&pga5pa{ag|5a{pf5t}q{5~5Ypayb55xt5|yp|f|azclp }y}f{5gra5gp9{a5gp5{pgm{|5;5qp5}a5ef\"zp5pz5z5p|az}5pz5r5ycwtps|aaz;5}}fst{5p|a}b5yt|p55p|a,}z5zf}ap|ab5c5r55pz9tr{avp{5pzq$W5a`5pzqtxp}`5xa5g5qapro}5p}vp$P{{|z5{t5z5fbee9pt{5va;'`at5zppq|t5va5x}rp}g}awz5|g55q$Alggz4}55a5lv5g5farg5x5fzze{afpg5x5zR;55pz5vp`{{yp}p{t}xrf]b5yz`t|5ct5|s{fT55cf{|rg5pyls}zlzza5ag\r\n",
      "\n",
      "Index: 114, String: ~Qf66~6ws''x~t6sy6drser^a6bQ:x~a6r$swb6qxq6r%sdb6sbxbd6bxse6w~rx6}6Zsbza66{w6zseby`os#~z~ex6dqb6ds:xb6ds6xsdnx686rs6~b6fe!ys6sy6y6sby~6sy6q6z`twspbby86~~epwx6sb~a6zws66sb/~y6ye~bsba6`6q66sy:wqxbusx6syr'T6bc6syrw{s~c6{b6d6rbsql~6s~us'Sxxy6xw6y6eaff:swx6ub8$cbw6yssrw6ub6{~qs~d~bty6d66r'Boddy7~66b6ou6d6ebqd6{6eyyfxbesd6{6yQ866sy6uscxxzs~sxw~{qe^a6zycw6`w6pxeW66`exqd6szop~yoyyb6bd\r\n",
      "\n",
      "Index: 115, String: Pg777vr&&yu~~7rx7esrds_`7cP;y`7s%rv~c7pyp~7s$rec7rcyce~7cyrd7vsy7|7[rc{`77zv7~{r~d~cxanr\"{dy7epc7er;yc7er7yreoy~797sr7c7gd xr7rx7x7r~cx7rx7p7{auvrq~ccx97dqvy7r~c`7{v~r77r~c.x7xdcr~c`7a7p77rx;vpyctry7rxs&U7cb7rxsvzrb7zc7e7scrpm7rtr&Ryy~x7yv7x7d`gg;rvy7tc9%bcv7xrrs~v7tc7zprecux7~e77s&Cneex677c7nt7e7dcpe7z7dxxgycdre7z7xP977rx7trbyy{rryvzpd_`7{xbv~7av7~qydV77ady~pe7r{nqxnxxc7ce\r\n",
      "\n",
      "Index: 116, String: xW`00x0qu!!~xryy0u0btuctXg0dW<~xg0t\"uqyd0w~wy0t#ubd0ud~dby0d~uc0qxt~0{0\\ud|g00}q0y|uycydfiu%x|xc~0bwd0bu<~d0bu0~ubh~y0>0tu0xd0`c'u0u00uydx0u0w0|frquvydd>0xxcvq~0uydxg0|qyu00uyd)x0cxduydg0f0w00u<qw~dsu~0ut!R0de0utq}uxe0}d0b0tduwjx0uxsu!U~~y0~q00cg``<uq~0sd>\"edq0uutyq0sd0}xwuxbxdr0yb00t!Dibb1x00d0is0b0cdwb0}0c`~dcub0}0W>00u0sue~~|uxu~qx}wcXg0|eqy0fq0yv~cQ00fc~ywb0u|ivxid0db\r\n",
      "\n",
      "Index: 117, String: yVa11y1pt  ysxx1t~1cutbuYf1eV=yf1u#tpxe1vvx1u\"tce1teecx1etb1pyu1z1]te}f11|p1x}txbxe~ght$y}yb1cve1ct=e1ct1tcix1?1ut1ye1ab&~t1t~1~1txe~y1t~1v1}gsptwxee~?1yybwp1txeyf1}pxt11txe(y~1~byetxef1g1v11t~=pvert1t~u S1ed1t~up|tyd1|e1c1uetvky1tyrt Tx~1p1~1bfaa=tp1re?#dep1~ttuxp1re1|yvtycyes~1xc11u Ehcc~0y11e1hr1c1bevc1|1b~~aebtc1|1~V?11t~1rtd}tytpy|vbYf1}~dpx1gp1xwbP11gbxvc1t}hwy~h~~e1ec\r\n",
      "\n",
      "Index: 118, String: zUb22z2sw##|zp{{2w}2`vwavZe2fU>|ze2v ws{f2u|u{2v!w`f2wf|f`{2f|wa2szv|2y2^wf~e22s2{~w{a{f}dkw'z~za|2`uf2`w>|f2`w2|w`j|{2<2vw2zf2ba%}w2w}2}2w{f}z2w}2u2~dpswt{ff}<2zzats|2w{fze2~s{w22w{f+z}2}azfw{fe2d2u22w}>su|fqw|2w}v#P2fg2w}vswzg2f2`2vfwuhz2wzqw#W||{}2|s2}2aebb>ws|2qf< gfs2}wwv{s2qf2zuwz`zfp}2{`22v#Fk``}3z22f2kq2`2afu`22a}}b|faw`22}U<22w}2qwg||~wzw|szuaZe2~}gs{2ds2{t|aS22da|{u`2w~ktz}k}}f2f`\r\n",
      "\n",
      "Index: 119, String: {Tc33{3rv\"\"}{qzz3v|3awv`w[d3gT?}{d3w!vrzg3t}tz3w vag3vg}gaz3g}v`3r{w}3x3_vgd33~r3zvz`zg|ejv&{{`}3atg3av?}g3av3}vak}z3=3wv3{g3c`$|v3v|3|3vzg|{3v|3t3eqrvuzgg|=3{{`ur}3vzg{d3rzv33vzg*{|3|`{gvzgd3e3t33v|?rt}gpv}3v|w\"Q3gf3v|wr~v{f3~g3a3wgvti{3v{pv\"V}}z|3}r3|3`dcc?vr}3pg=!fgr3|vvwzr3pg3~{tv{a{gq|3za33w\"Gjaa|2{33g3jp3a3`gta3~3`||c}g`va3~3|T=33v|3pvf}}v{v}r{~t`[d3|frz3er3zu}`R33e`}zta3vju{|j||g3ga\r\n",
      "\n",
      "Index: 120, String: t[l<<t<}y--rt~uu<ys<nxyoxTk<h[0rtk<x.y}uh<{r{u<x/ynh<yhrhnu<hryo<}txr<w<Pyhpk<<q}<upyuouhsjey)tptor<n{h<ny0rh<ny<ryndru<2<xy<th<lo+sy<ys<s<yuhst<ys<{<pj~}yzuhhs2<ttoz}r<yuhtk<p}uy<<yuh%ts<sothyuhk<j<{<<ys0}{rhyr<ysx-^<hi<ysx}qyti<qh<n<xhy{ft<yty-Yrrus<r}<s<okll0y}r<h2.ih}<syyxu}<h<qt{ytnth~s<un<<x-Henns=t<<h<e<n<oh{n<q<osslrhoyn<q<s[2<<ys<yirrpytyr}tq{oTk<psi}u<j}<uzro]<<joru{n<ypeztsessh<hn\r\n",
      "\n",
      "Index: 121, String: uZm==u=|x,,sutt=xr=oyxnyUj=iZ1suj=y/x|ti=zszt=y.xoi=xisiot=isxn=|uys=v=Qxiqj==p|=tqxtntirkdx(uquns=ozi=ox1si=ox=sxoest=3=yx=ui=mn*rx=xr=r=xtiru=xr=z=qk|x{tiir3=uun{|s=xtiuj=q|tx==xti$ur=rnuixtij=k=z==xr1|zsi~xs=xry,_=ih=xry|pxuh=pi=o=yixzgu=xu~x,Xsstr=s|=r=njmm1x|s=~i3/hi|=rxxyt|=~i=puzxuouir=to==y,Idoor<u==i=d~=o=nizo=p=nrrmsinxo=p=rZ3==xr=~xhssqxuxs|upznUj=qrh|t=k|=t{sn\\==knstzo=xqd{urdrri=io\r\n",
      "\n",
      "Index: 122, String: vYn>>v>{//pv|ww>{q>lz{mzVi>jY2pvi>z,{wj>ypyw>z-{lj>{jpjlw>jp{m>vzp>u>R{jri>>s>wr{wmwjqhg{+vrvmp>lyj>l{2pj>l{>p{lfpw>0>z{>vj>nm)q{>{q>q>{wjqv>{q>y>rh|{xwjjq0>vvmxp>{wjvi>rw{>>{wj'vq>qmvj{wji>h>y>>{q2ypj}{p>{qz/\\>jk>{qzs{vk>sj>l>zj{ydv>{v}{/[ppwq>p>q>minn2{p>}j0,kj>q{{zw>}j>svy{vlvj|q>wl>>z/Jgllq?v>>j>g}>l>mjyl>s>mqqnpjm{l>s>qY0>>{q>}{kppr{v{pvsymVi>rqkw>h>wxpm_>>hmpwyl>{rgxvqgqqj>jl\r\n",
      "\n",
      "Index: 123, String: wXo??w?~z..qw}vv?zp?m{zl{Wh?kX3qwh?{-z~vk?xqxv?{,zmk?zkqkmv?kqzl?~w{q?t?Szksh??r~?vszvlvkpifz*wswlq?mxk?mz3qk?mz?qzmgqv?1?{z?wk?ol(pz?zp?p?zvkpw?zp?x?si}~zyvkkp1?wwly~q?zvkwh?s~vz??zvk&wp?plwkzvkh?i?x??zp3~xqk|zq?zp{.]?kj?zp{~rzwj?rk?m?{kzxew?zw|z.Zqqvp?q~?p?lhoo3z~q?|k1-jk~?pzz{v~?|k?rwxzwmwk}p?vm??{.Kfmmp>w??k?f|?m?lkxm?r?lppoqklzm?r?pX1??zp?|zjqqszwzq~wrxlWh?spj~v?i~?vyql^??ilqvxm?zsfywpfppk?km\r\n",
      "\n"
     ]
    }
   ],
   "source": [
    "for i in range(98, 98+26):\n",
    "    print('Index: {}, String: {}\\r\\n'.format(i, as_string( xor(C3,i) ) ))"
   ]
  },
  {
   "cell_type": "markdown",
   "metadata": {},
   "source": [
    "First is 103, second is 111, last is 100."
   ]
  },
  {
   "cell_type": "code",
   "execution_count": 73,
   "metadata": {},
   "outputs": [
    {
     "name": "stdout",
     "output_type": "stream",
     "text": [
      "(eoeoJncpr)  eennt raeyxt.eawho deaG.  snhbii tG.  eeerhghesNhgxtttei'me4i sfaih,ntsi v g  eo. eithetohhdks dhdksc v tgsi G nJnhBtt  lernaut g  aernmhbieeu  sein Jnie sot g;eaoy tstt g. enw  er g,hgelhtern sogoo tt r.0uahgt r sa rgh,hwldn cneiwnea.1v  swldnanh nel  soaee  tolw lv mnaeeh,ea eitoemcleoG.3h eer iin psabtrui ohapsnrl,h btcefmo1St rba m dide  r o .eaflfninlenftue.nwhee slyt o  en nfhFh.\r\n",
      "\n",
      "T slfo,ht  It gnghWdla ie  si da  so Hw  eennwho Hcadvyi e .oi ish  dta. fie sni dh fgelhtern T g ishu eansa eansaneeiuht6osto eai ttlvyebthlhsttvyeitee csoh smy8o mlw thlh  sn wnsohlh T ehit ulh oisitovyew i  miohwl  tlohhwlw dtohi eodi'roi mh  m  eih na dmgio oehw tcpd1B  lhbieh dcpdi  vt g  cehdnfo  ea bnTssoahilihelnfmunai  a irihosr d4ohWdemhaa v roetanu  su  flgo dahls dea eh o,hgrot lS  eae\r\n",
      "\n",
      "hGp  h ae11nhbii eo rdesdHw tG,nhw d2eait gngi d3ert etntri tnes ahdn k Letlw  ma ileisitovye5hlhsn rgt re,nt re nerxni . de ht ps7oe eo o eitoh eo g lvbaefitto. hhsfan eithw laie  eit9ho oshteitw v g  eo,agntcen eod1B tu eodamehu mt r dtegzh ehce1Ennio na o swpp,ean ct.2uta oeedia ct mhgehrhtbo ir  d1Tyrro!h  t yc r stgr m soopntser m oG.  eo ceunnlehenahmgsHw louai va ifnsA  vsnigr elyfhoyoot tr\r\n",
      "\n"
     ]
    }
   ],
   "source": [
    "for C, k in [(C1, 103),(C2, 111),(C3, 100)]: print(as_string(xor(C, k)) + '\\r\\n')"
   ]
  },
  {
   "cell_type": "code",
   "execution_count": 75,
   "metadata": {},
   "outputs": [
    {
     "data": {
      "text/plain": [
       "401"
      ]
     },
     "execution_count": 75,
     "metadata": {},
     "output_type": "execute_result"
    }
   ],
   "source": [
    "len(C1)"
   ]
  },
  {
   "cell_type": "code",
   "execution_count": 76,
   "metadata": {},
   "outputs": [
    {
     "data": {
      "text/plain": [
       "400"
      ]
     },
     "execution_count": 76,
     "metadata": {},
     "output_type": "execute_result"
    }
   ],
   "source": [
    "len(C2)"
   ]
  },
  {
   "cell_type": "code",
   "execution_count": 78,
   "metadata": {},
   "outputs": [
    {
     "data": {
      "text/plain": [
       "400"
      ]
     },
     "execution_count": 78,
     "metadata": {},
     "output_type": "execute_result"
    }
   ],
   "source": [
    "len(C3)"
   ]
  },
  {
   "cell_type": "code",
   "execution_count": 79,
   "metadata": {},
   "outputs": [],
   "source": [
    "P1 = xor(C1, 103)\n",
    "P2 = xor(C2, 111)\n",
    "P3 = xor(C3, 100)"
   ]
  },
  {
   "cell_type": "code",
   "execution_count": 90,
   "metadata": {},
   "outputs": [],
   "source": [
    "plain = ''.join(['{}{}{}'.format(chr(P1[x]), chr(P2[x]), chr(P3[x])) for x in range(400)]) + chr(P1[400])"
   ]
  },
  {
   "cell_type": "code",
   "execution_count": 91,
   "metadata": {},
   "outputs": [
    {
     "data": {
      "text/plain": [
       "\"(The Gospel of John, chapter 1) 1 In the beginning the Word already existed. He was with God, and he was God. 2 He was in the beginning with God. 3 He created everything there is. Nothing exists that he didn't make. 4 Life itself was in him, and this life gives light to everyone. 5 The light shines through the darkness, and the darkness can never extinguish it. 6 God sent John the Baptist 7 to tell everyone about the light so that everyone might believe because of his testimony. 8 John himself was not the light; he was only a witness to the light. 9 The one who is the true light, who gives light to everyone, was going to come into the world. 10 But although the world was made through him, the world didn't recognize him when he came. 11 Even in his own land and among his own people, he was not accepted. 12 But to all who believed him and accepted him, he gave the right to become children of God. 13 They are reborn! This is not a physical birth resulting from human passion or plan, this rebirth comes from God.14 So the Word became human and lived here on earth among us. He was full of unfailing love and faithfulness. And we have seen his glory, the glory of the only Son of the Father.\""
      ]
     },
     "execution_count": 91,
     "metadata": {},
     "output_type": "execute_result"
    }
   ],
   "source": [
    "plain"
   ]
  },
  {
   "cell_type": "code",
   "execution_count": 95,
   "metadata": {},
   "outputs": [
    {
     "data": {
      "text/plain": [
       "107359"
      ]
     },
     "execution_count": 95,
     "metadata": {},
     "output_type": "execute_result"
    }
   ],
   "source": [
    "sum([ ord(x) for x in plain ])"
   ]
  },
  {
   "cell_type": "code",
   "execution_count": 97,
   "metadata": {},
   "outputs": [],
   "source": [
    "x1 = [ord(p) for p in plain[0:3]]"
   ]
  },
  {
   "cell_type": "code",
   "execution_count": 98,
   "metadata": {},
   "outputs": [
    {
     "data": {
      "text/plain": [
       "[40, 84, 104]"
      ]
     },
     "execution_count": 98,
     "metadata": {},
     "output_type": "execute_result"
    }
   ],
   "source": [
    "x1"
   ]
  },
  {
   "cell_type": "code",
   "execution_count": 99,
   "metadata": {
    "scrolled": true
   },
   "outputs": [
    {
     "data": {
      "text/plain": [
       "[79, 59, 12]"
      ]
     },
     "execution_count": 99,
     "metadata": {},
     "output_type": "execute_result"
    }
   ],
   "source": [
    "cipher[0:3]"
   ]
  },
  {
   "cell_type": "code",
   "execution_count": 100,
   "metadata": {},
   "outputs": [
    {
     "data": {
      "text/plain": [
       "103"
      ]
     },
     "execution_count": 100,
     "metadata": {},
     "output_type": "execute_result"
    }
   ],
   "source": [
    "40^79"
   ]
  },
  {
   "cell_type": "code",
   "execution_count": 101,
   "metadata": {},
   "outputs": [
    {
     "data": {
      "text/plain": [
       "111"
      ]
     },
     "execution_count": 101,
     "metadata": {},
     "output_type": "execute_result"
    }
   ],
   "source": [
    "84^59"
   ]
  },
  {
   "cell_type": "code",
   "execution_count": 102,
   "metadata": {
    "scrolled": true
   },
   "outputs": [
    {
     "data": {
      "text/plain": [
       "100"
      ]
     },
     "execution_count": 102,
     "metadata": {},
     "output_type": "execute_result"
    }
   ],
   "source": [
    "104^12"
   ]
  },
  {
   "cell_type": "code",
   "execution_count": null,
   "metadata": {},
   "outputs": [],
   "source": []
  }
 ],
 "metadata": {
  "kernelspec": {
   "display_name": "Python 3",
   "language": "python",
   "name": "python3"
  },
  "language_info": {
   "codemirror_mode": {
    "name": "ipython",
    "version": 3
   },
   "file_extension": ".py",
   "mimetype": "text/x-python",
   "name": "python",
   "nbconvert_exporter": "python",
   "pygments_lexer": "ipython3",
   "version": "3.6.3"
  }
 },
 "nbformat": 4,
 "nbformat_minor": 2
}
