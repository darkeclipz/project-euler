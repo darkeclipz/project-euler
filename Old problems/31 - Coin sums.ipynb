{
 "cells": [
  {
   "cell_type": "code",
   "execution_count": 1,
   "metadata": {},
   "outputs": [
    {
     "name": "stdout",
     "output_type": "stream",
     "text": [
      "Populating the interactive namespace from numpy and matplotlib\n"
     ]
    }
   ],
   "source": [
    "%pylab inline"
   ]
  },
  {
   "cell_type": "code",
   "execution_count": 32,
   "metadata": {},
   "outputs": [
    {
     "name": "stdout",
     "output_type": "stream",
     "text": [
      "94\n",
      "Wall time: 8 ms\n"
     ]
    }
   ],
   "source": [
    "%%time\n",
    "satisfied=0\n",
    "for x1 in range(2+1):\n",
    "    for x2 in range(10+1-5*x1):\n",
    "        for x3 in range(20+1-(10*x1+2*x2)):\n",
    "            for x4 in range(40+1-(20*x1+10*x2+2*x3)):\n",
    "                for x5 in range(100+1-(40*x1+20*x2+10*x3+2*x4)):\n",
    "                    if 100*x1 + 20*x2 + 10*x3 + 5*x4 + 2*x5 == 200:\n",
    "                        #print('100x{} 50x{} 20x{}'.format(x1, x2, x3))\n",
    "                        satisfied += 1\n",
    "print(satisfied)"
   ]
  },
  {
   "cell_type": "code",
   "execution_count": 11,
   "metadata": {
    "scrolled": true
   },
   "outputs": [
    {
     "name": "stdout",
     "output_type": "stream",
     "text": [
      "0-0\n",
      "0-1\n",
      "0-2\n",
      "0-3\n",
      "0-4\n",
      "0-5\n",
      "0-6\n",
      "0-7\n",
      "0-8\n",
      "0-9\n",
      "0-10\n",
      "1-0\n",
      "1-1\n",
      "1-2\n",
      "1-3\n",
      "1-4\n",
      "1-5\n",
      "1-6\n",
      "1-7\n",
      "1-8\n",
      "1-9\n",
      "1-10\n",
      "2-0\n",
      "2-1\n",
      "2-2\n",
      "2-3\n",
      "2-4\n",
      "2-5\n",
      "2-6\n",
      "2-7\n",
      "2-8\n",
      "2-9\n",
      "2-10\n",
      "7614\n",
      "Wall time: 1.96 s\n"
     ]
    }
   ],
   "source": [
    "%%time\n",
    "satisfied=0\n",
    "for x1 in range(2+1):\n",
    "    for x2 in range(10+1):\n",
    "        print('{}-{}'.format(x1,x2))\n",
    "        for x3 in range(20+1):\n",
    "            for x4 in range(40+1):\n",
    "                for x5 in range(100+1):\n",
    "                    for x6 in range(200+1-(100*x1+50*x2+20*x3+10*x4)):\n",
    "                        if 100*x1 + 20*x2 + 10*x3 + 5*x4 + 2*x5 + x6 == 200: \n",
    "                            satisfied += 1\n",
    "print(satisfied)"
   ]
  },
  {
   "cell_type": "code",
   "execution_count": null,
   "metadata": {},
   "outputs": [],
   "source": []
  }
 ],
 "metadata": {
  "kernelspec": {
   "display_name": "Python 3",
   "language": "python",
   "name": "python3"
  },
  "language_info": {
   "codemirror_mode": {
    "name": "ipython",
    "version": 3
   },
   "file_extension": ".py",
   "mimetype": "text/x-python",
   "name": "python",
   "nbconvert_exporter": "python",
   "pygments_lexer": "ipython3",
   "version": "3.6.3"
  }
 },
 "nbformat": 4,
 "nbformat_minor": 2
}
