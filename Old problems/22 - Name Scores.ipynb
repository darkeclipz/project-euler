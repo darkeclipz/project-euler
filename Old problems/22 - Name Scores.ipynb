{
 "cells": [
  {
   "cell_type": "markdown",
   "metadata": {},
   "source": [
    "# Problem"
   ]
  },
  {
   "cell_type": "markdown",
   "metadata": {},
   "source": [
    "Using `problem22.txt`, a 46K text file containing over five-thousand first names, begin by sorting it into alphabetical order. Then working out the alphabetical value for each name, multiply this value by its alphabetical position in the list to obtain a name score.\n",
    "\n",
    "For example, when the list is sorted into alphabetical order, COLIN, which is worth 3 + 15 + 12 + 9 + 14 = 53, is the 938th name in the list. So, COLIN would obtain a score of 938 × 53 = 49714.\n",
    "\n",
    "What is the total of all the name scores in the file?"
   ]
  },
  {
   "cell_type": "markdown",
   "metadata": {},
   "source": [
    "# Data"
   ]
  },
  {
   "cell_type": "markdown",
   "metadata": {},
   "source": [
    "First we read, prune, and sort the data:"
   ]
  },
  {
   "cell_type": "code",
   "execution_count": 90,
   "metadata": {},
   "outputs": [],
   "source": [
    "raw = scan(\"problem22.txt\", what=\"\", sep=\"\\n\")\n",
    "raw_no_quotes = gsub(\"\\\"\", \"\", raw)\n",
    "splitted = strsplit(raw_no_quotes, ',')[[1]]\n",
    "names = sort(splitted)"
   ]
  },
  {
   "cell_type": "code",
   "execution_count": 91,
   "metadata": {},
   "outputs": [
    {
     "data": {
      "text/html": [
       "<ol class=list-inline>\n",
       "\t<li>'AARON'</li>\n",
       "\t<li>'ABBEY'</li>\n",
       "\t<li>'ABBIE'</li>\n",
       "\t<li>'ABBY'</li>\n",
       "\t<li>'ABDUL'</li>\n",
       "\t<li>'ABE'</li>\n",
       "\t<li>'ABEL'</li>\n",
       "\t<li>'ABIGAIL'</li>\n",
       "\t<li>'ABRAHAM'</li>\n",
       "\t<li>'ABRAM'</li>\n",
       "</ol>\n"
      ],
      "text/latex": [
       "\\begin{enumerate*}\n",
       "\\item 'AARON'\n",
       "\\item 'ABBEY'\n",
       "\\item 'ABBIE'\n",
       "\\item 'ABBY'\n",
       "\\item 'ABDUL'\n",
       "\\item 'ABE'\n",
       "\\item 'ABEL'\n",
       "\\item 'ABIGAIL'\n",
       "\\item 'ABRAHAM'\n",
       "\\item 'ABRAM'\n",
       "\\end{enumerate*}\n"
      ],
      "text/markdown": [
       "1. 'AARON'\n",
       "2. 'ABBEY'\n",
       "3. 'ABBIE'\n",
       "4. 'ABBY'\n",
       "5. 'ABDUL'\n",
       "6. 'ABE'\n",
       "7. 'ABEL'\n",
       "8. 'ABIGAIL'\n",
       "9. 'ABRAHAM'\n",
       "10. 'ABRAM'\n",
       "\n",
       "\n"
      ],
      "text/plain": [
       " [1] \"AARON\"   \"ABBEY\"   \"ABBIE\"   \"ABBY\"    \"ABDUL\"   \"ABE\"     \"ABEL\"   \n",
       " [8] \"ABIGAIL\" \"ABRAHAM\" \"ABRAM\"  "
      ]
     },
     "metadata": {},
     "output_type": "display_data"
    }
   ],
   "source": [
    "names[1:10]"
   ]
  },
  {
   "cell_type": "code",
   "execution_count": 92,
   "metadata": {
    "scrolled": true
   },
   "outputs": [
    {
     "data": {
      "text/html": [
       "5163"
      ],
      "text/latex": [
       "5163"
      ],
      "text/markdown": [
       "5163"
      ],
      "text/plain": [
       "[1] 5163"
      ]
     },
     "metadata": {},
     "output_type": "display_data"
    }
   ],
   "source": [
    "length(names)"
   ]
  },
  {
   "cell_type": "markdown",
   "metadata": {},
   "source": [
    "# Alphabetic name value"
   ]
  },
  {
   "cell_type": "markdown",
   "metadata": {},
   "source": [
    "We want to split a name into characters."
   ]
  },
  {
   "cell_type": "code",
   "execution_count": 118,
   "metadata": {},
   "outputs": [],
   "source": [
    "cname = strsplit(names[1], \"\")[[1]]"
   ]
  },
  {
   "cell_type": "code",
   "execution_count": 109,
   "metadata": {},
   "outputs": [
    {
     "data": {
      "text/html": [
       "<ol class=list-inline>\n",
       "\t<li>'A'</li>\n",
       "\t<li>'A'</li>\n",
       "\t<li>'R'</li>\n",
       "\t<li>'O'</li>\n",
       "\t<li>'N'</li>\n",
       "</ol>\n"
      ],
      "text/latex": [
       "\\begin{enumerate*}\n",
       "\\item 'A'\n",
       "\\item 'A'\n",
       "\\item 'R'\n",
       "\\item 'O'\n",
       "\\item 'N'\n",
       "\\end{enumerate*}\n"
      ],
      "text/markdown": [
       "1. 'A'\n",
       "2. 'A'\n",
       "3. 'R'\n",
       "4. 'O'\n",
       "5. 'N'\n",
       "\n",
       "\n"
      ],
      "text/plain": [
       "[1] \"A\" \"A\" \"R\" \"O\" \"N\""
      ]
     },
     "metadata": {},
     "output_type": "display_data"
    }
   ],
   "source": [
    "cname"
   ]
  },
  {
   "cell_type": "markdown",
   "metadata": {},
   "source": [
    "R knows all the letters."
   ]
  },
  {
   "cell_type": "code",
   "execution_count": 110,
   "metadata": {},
   "outputs": [
    {
     "data": {
      "text/html": [
       "<ol class=list-inline>\n",
       "\t<li>'A'</li>\n",
       "\t<li>'B'</li>\n",
       "\t<li>'C'</li>\n",
       "\t<li>'D'</li>\n",
       "\t<li>'E'</li>\n",
       "\t<li>'F'</li>\n",
       "\t<li>'G'</li>\n",
       "\t<li>'H'</li>\n",
       "\t<li>'I'</li>\n",
       "\t<li>'J'</li>\n",
       "\t<li>'K'</li>\n",
       "\t<li>'L'</li>\n",
       "\t<li>'M'</li>\n",
       "\t<li>'N'</li>\n",
       "\t<li>'O'</li>\n",
       "\t<li>'P'</li>\n",
       "\t<li>'Q'</li>\n",
       "\t<li>'R'</li>\n",
       "\t<li>'S'</li>\n",
       "\t<li>'T'</li>\n",
       "\t<li>'U'</li>\n",
       "\t<li>'V'</li>\n",
       "\t<li>'W'</li>\n",
       "\t<li>'X'</li>\n",
       "\t<li>'Y'</li>\n",
       "\t<li>'Z'</li>\n",
       "</ol>\n"
      ],
      "text/latex": [
       "\\begin{enumerate*}\n",
       "\\item 'A'\n",
       "\\item 'B'\n",
       "\\item 'C'\n",
       "\\item 'D'\n",
       "\\item 'E'\n",
       "\\item 'F'\n",
       "\\item 'G'\n",
       "\\item 'H'\n",
       "\\item 'I'\n",
       "\\item 'J'\n",
       "\\item 'K'\n",
       "\\item 'L'\n",
       "\\item 'M'\n",
       "\\item 'N'\n",
       "\\item 'O'\n",
       "\\item 'P'\n",
       "\\item 'Q'\n",
       "\\item 'R'\n",
       "\\item 'S'\n",
       "\\item 'T'\n",
       "\\item 'U'\n",
       "\\item 'V'\n",
       "\\item 'W'\n",
       "\\item 'X'\n",
       "\\item 'Y'\n",
       "\\item 'Z'\n",
       "\\end{enumerate*}\n"
      ],
      "text/markdown": [
       "1. 'A'\n",
       "2. 'B'\n",
       "3. 'C'\n",
       "4. 'D'\n",
       "5. 'E'\n",
       "6. 'F'\n",
       "7. 'G'\n",
       "8. 'H'\n",
       "9. 'I'\n",
       "10. 'J'\n",
       "11. 'K'\n",
       "12. 'L'\n",
       "13. 'M'\n",
       "14. 'N'\n",
       "15. 'O'\n",
       "16. 'P'\n",
       "17. 'Q'\n",
       "18. 'R'\n",
       "19. 'S'\n",
       "20. 'T'\n",
       "21. 'U'\n",
       "22. 'V'\n",
       "23. 'W'\n",
       "24. 'X'\n",
       "25. 'Y'\n",
       "26. 'Z'\n",
       "\n",
       "\n"
      ],
      "text/plain": [
       " [1] \"A\" \"B\" \"C\" \"D\" \"E\" \"F\" \"G\" \"H\" \"I\" \"J\" \"K\" \"L\" \"M\" \"N\" \"O\" \"P\" \"Q\" \"R\" \"S\"\n",
       "[20] \"T\" \"U\" \"V\" \"W\" \"X\" \"Y\" \"Z\""
      ]
     },
     "metadata": {},
     "output_type": "display_data"
    }
   ],
   "source": [
    "LETTERS"
   ]
  },
  {
   "cell_type": "markdown",
   "metadata": {},
   "source": [
    "We match the characters with the letters to get a vector with the character number, for each character."
   ]
  },
  {
   "cell_type": "code",
   "execution_count": 113,
   "metadata": {},
   "outputs": [],
   "source": [
    "letter_values = match(cname, LETTERS)"
   ]
  },
  {
   "cell_type": "code",
   "execution_count": 114,
   "metadata": {},
   "outputs": [
    {
     "data": {
      "text/html": [
       "<ol class=list-inline>\n",
       "\t<li>1</li>\n",
       "\t<li>1</li>\n",
       "\t<li>18</li>\n",
       "\t<li>15</li>\n",
       "\t<li>14</li>\n",
       "</ol>\n"
      ],
      "text/latex": [
       "\\begin{enumerate*}\n",
       "\\item 1\n",
       "\\item 1\n",
       "\\item 18\n",
       "\\item 15\n",
       "\\item 14\n",
       "\\end{enumerate*}\n"
      ],
      "text/markdown": [
       "1. 1\n",
       "2. 1\n",
       "3. 18\n",
       "4. 15\n",
       "5. 14\n",
       "\n",
       "\n"
      ],
      "text/plain": [
       "[1]  1  1 18 15 14"
      ]
     },
     "metadata": {},
     "output_type": "display_data"
    }
   ],
   "source": [
    "letter_values"
   ]
  },
  {
   "cell_type": "markdown",
   "metadata": {},
   "source": [
    "Finally we sum those values to get the name score."
   ]
  },
  {
   "cell_type": "code",
   "execution_count": 115,
   "metadata": {},
   "outputs": [
    {
     "data": {
      "text/html": [
       "49"
      ],
      "text/latex": [
       "49"
      ],
      "text/markdown": [
       "49"
      ],
      "text/plain": [
       "[1] 49"
      ]
     },
     "metadata": {},
     "output_type": "display_data"
    }
   ],
   "source": [
    "sum(letter_values)"
   ]
  },
  {
   "cell_type": "markdown",
   "metadata": {},
   "source": [
    "For ease of use we want to create a function `name.to.score(string)` that returns the score of the name."
   ]
  },
  {
   "cell_type": "code",
   "execution_count": 116,
   "metadata": {},
   "outputs": [],
   "source": [
    "name.to.score <- function(name) sum(match(strsplit(name, \"\")[[1]], LETTERS))"
   ]
  },
  {
   "cell_type": "markdown",
   "metadata": {},
   "source": [
    "Now we can check the example that is given in the problem. It says that `COLIN` should be $53$."
   ]
  },
  {
   "cell_type": "code",
   "execution_count": 117,
   "metadata": {},
   "outputs": [
    {
     "data": {
      "text/html": [
       "53"
      ],
      "text/latex": [
       "53"
      ],
      "text/markdown": [
       "53"
      ],
      "text/plain": [
       "[1] 53"
      ]
     },
     "metadata": {},
     "output_type": "display_data"
    }
   ],
   "source": [
    "name.to.score(\"COLIN\")"
   ]
  },
  {
   "cell_type": "markdown",
   "metadata": {},
   "source": [
    "# Total score"
   ]
  },
  {
   "cell_type": "markdown",
   "metadata": {},
   "source": [
    "We can easily do this with a `for` loop."
   ]
  },
  {
   "cell_type": "code",
   "execution_count": 119,
   "metadata": {},
   "outputs": [
    {
     "data": {
      "text/html": [
       "871198282"
      ],
      "text/latex": [
       "871198282"
      ],
      "text/markdown": [
       "871198282"
      ],
      "text/plain": [
       "[1] 871198282"
      ]
     },
     "metadata": {},
     "output_type": "display_data"
    }
   ],
   "source": [
    "score = 0\n",
    "for (i in 1:length(names)) {\n",
    "    score = score + name.to.score(names[i]) * i\n",
    "}\n",
    "score"
   ]
  },
  {
   "cell_type": "markdown",
   "metadata": {},
   "source": [
    "Or a more R'ish way would be to use `lapply` and `Reduce`."
   ]
  },
  {
   "cell_type": "code",
   "execution_count": 122,
   "metadata": {},
   "outputs": [
    {
     "data": {
      "text/html": [
       "871198282"
      ],
      "text/latex": [
       "871198282"
      ],
      "text/markdown": [
       "871198282"
      ],
      "text/plain": [
       "[1] 871198282"
      ]
     },
     "metadata": {},
     "output_type": "display_data"
    }
   ],
   "source": [
    "Reduce('+', lapply(1:length(names), function(x) x * name.to.score(names[x])))"
   ]
  },
  {
   "cell_type": "markdown",
   "metadata": {},
   "source": [
    "# Code"
   ]
  },
  {
   "cell_type": "markdown",
   "metadata": {},
   "source": [
    "The final implementation that gives the answer."
   ]
  },
  {
   "cell_type": "code",
   "execution_count": 124,
   "metadata": {},
   "outputs": [
    {
     "data": {
      "text/html": [
       "871198282"
      ],
      "text/latex": [
       "871198282"
      ],
      "text/markdown": [
       "871198282"
      ],
      "text/plain": [
       "[1] 871198282"
      ]
     },
     "metadata": {},
     "output_type": "display_data"
    }
   ],
   "source": [
    "names = sort(strsplit(gsub(\"\\\"\", \"\", scan(\"problem22.txt\", what=\"\", sep=\"\\n\")), ',')[[1]])\n",
    "name.to.score <- function(name) sum(match(strsplit(name, \"\")[[1]], LETTERS))\n",
    "Reduce('+', lapply(1:length(names), function(x) x * name.to.score(names[x])))"
   ]
  }
 ],
 "metadata": {
  "kernelspec": {
   "display_name": "R",
   "language": "R",
   "name": "ir"
  },
  "language_info": {
   "codemirror_mode": "r",
   "file_extension": ".r",
   "mimetype": "text/x-r-source",
   "name": "R",
   "pygments_lexer": "r",
   "version": "3.4.4"
  }
 },
 "nbformat": 4,
 "nbformat_minor": 2
}
